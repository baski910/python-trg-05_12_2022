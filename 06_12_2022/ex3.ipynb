{
 "cells": [
  {
   "cell_type": "code",
   "execution_count": 1,
   "id": "118f9e07",
   "metadata": {},
   "outputs": [],
   "source": [
    "# python packages for different databases\n",
    "# mysql - pymysql\n",
    "# postgresql - psycopg2\n",
    "# oracle - cx_Oracle\n",
    "\n",
    "# pip install psycopg2 (needed for connecting to postgresql)\n",
    "\n",
    "# create connection object using psycopg2.connect method\n",
    "\n",
    "# create cursor object using connection object\n",
    "\n",
    "# execute sql query using cursor"
   ]
  },
  {
   "cell_type": "code",
   "execution_count": 4,
   "id": "24ca5b0e",
   "metadata": {},
   "outputs": [
    {
     "name": "stdout",
     "output_type": "stream",
     "text": [
      "table created\n"
     ]
    }
   ],
   "source": [
    "import psycopg2\n",
    "import sys\n",
    "\n",
    "conn = psycopg2.connect(host='localhost',user='demodbuser',password='password',dbname='demodb_1')\n",
    "\n",
    "cur = conn.cursor() \n",
    "\n",
    "try:\n",
    "    cur.execute(\"create table books(bookid int,booktitle varchar(50))\")\n",
    "    conn.commit()\n",
    "except Exception as e:\n",
    "    print(\"error in executing query\")\n",
    "else:\n",
    "    print(\"table created\")\n",
    "finally:\n",
    "    conn.close()"
   ]
  },
  {
   "cell_type": "code",
   "execution_count": null,
   "id": "556e94be",
   "metadata": {},
   "outputs": [],
   "source": []
  }
 ],
 "metadata": {
  "kernelspec": {
   "display_name": "Python 3 (ipykernel)",
   "language": "python",
   "name": "python3"
  },
  "language_info": {
   "codemirror_mode": {
    "name": "ipython",
    "version": 3
   },
   "file_extension": ".py",
   "mimetype": "text/x-python",
   "name": "python",
   "nbconvert_exporter": "python",
   "pygments_lexer": "ipython3",
   "version": "3.7.3"
  }
 },
 "nbformat": 4,
 "nbformat_minor": 5
}
