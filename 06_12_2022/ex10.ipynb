{
 "cells": [
  {
   "cell_type": "code",
   "execution_count": 17,
   "id": "7332377e",
   "metadata": {},
   "outputs": [
    {
     "name": "stdout",
     "output_type": "stream",
     "text": [
      "{\"status\":\"success\",\"data\":{\"id\":2,\"booktitle\":\"programming in python\",\"bookauthor\":\"van rossum\"}}\n"
     ]
    }
   ],
   "source": [
    "# test django rest app\n",
    "\n",
    "import requests\n",
    "import json\n",
    "\n",
    "data =  {'id': 1}\n",
    "\n",
    "r = requests.get(\"http://localhost:8000/restapp/books/2\")\n",
    "\n",
    "if r.status_code==200:\n",
    "    print(r.text)\n",
    "else:\n",
    "    print(\"error accessing rest end point\")"
   ]
  },
  {
   "cell_type": "code",
   "execution_count": 9,
   "id": "efb80b9d",
   "metadata": {},
   "outputs": [
    {
     "name": "stdout",
     "output_type": "stream",
     "text": [
      "{\"status\":\"success\",\"data\":{\"id\":2,\"booktitle\":\"programming in python\",\"bookauthor\":\"van rossum\"}}\n"
     ]
    }
   ],
   "source": [
    "data = {'booktitle': 'programming in python','bookauthor': 'van rossum'}\n",
    "headers = {'Content-type': 'application/json'}\n",
    "r = requests.post(\"http://localhost:8000/restapp/books/\",data=json.dumps(data),headers=headers)\n",
    "\n",
    "if r.status_code==200:\n",
    "    print(r.text)\n",
    "else:\n",
    "    print(\"error accessing rest end point\",r.status_code)"
   ]
  },
  {
   "cell_type": "code",
   "execution_count": null,
   "id": "0ec663ea",
   "metadata": {},
   "outputs": [],
   "source": []
  }
 ],
 "metadata": {
  "kernelspec": {
   "display_name": "Python 3 (ipykernel)",
   "language": "python",
   "name": "python3"
  },
  "language_info": {
   "codemirror_mode": {
    "name": "ipython",
    "version": 3
   },
   "file_extension": ".py",
   "mimetype": "text/x-python",
   "name": "python",
   "nbconvert_exporter": "python",
   "pygments_lexer": "ipython3",
   "version": "3.7.3"
  }
 },
 "nbformat": 4,
 "nbformat_minor": 5
}
