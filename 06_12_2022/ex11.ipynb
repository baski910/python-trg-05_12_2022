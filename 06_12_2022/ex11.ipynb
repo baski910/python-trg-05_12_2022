{
 "cells": [
  {
   "cell_type": "code",
   "execution_count": 4,
   "id": "099f3c90",
   "metadata": {},
   "outputs": [
    {
     "name": "stdout",
     "output_type": "stream",
     "text": [
      " * Serving Flask app '__main__' (lazy loading)\n",
      " * Environment: production\n",
      "\u001b[31m   WARNING: This is a development server. Do not use it in a production deployment.\u001b[0m\n",
      "\u001b[2m   Use a production WSGI server instead.\u001b[0m\n",
      " * Debug mode: off\n"
     ]
    },
    {
     "name": "stderr",
     "output_type": "stream",
     "text": [
      " * Running on http://127.0.0.1:5000 (Press CTRL+C to quit)\n",
      "127.0.0.1 - - [06/Dec/2022 17:09:54] \"GET / HTTP/1.1\" 200 -\n",
      "127.0.0.1 - - [06/Dec/2022 17:10:00] \"\u001b[33mGET /welcom HTTP/1.1\u001b[0m\" 404 -\n",
      "127.0.0.1 - - [06/Dec/2022 17:10:04] \"GET /welcome HTTP/1.1\" 200 -\n"
     ]
    }
   ],
   "source": [
    "# flask - widely used python microframe work\n",
    "# install flask\n",
    "# pip install flask\n",
    "# default port for flask is 5000\n",
    "# http://localhost:5000  -  /\n",
    "\n",
    "from flask import Flask\n",
    "\n",
    "app = Flask(__name__)\n",
    "\n",
    "@app.route('/')\n",
    "def home():\n",
    "    return \"<h1>Welcome to flask app</h1>\"\n",
    "\n",
    "@app.route('/welcome')\n",
    "def hello():\n",
    "    return \"<h1>Welcome from another method</h1>\"\n",
    "\n",
    "\n",
    "if __name__ == '__main__':\n",
    "    app.run()"
   ]
  },
  {
   "cell_type": "code",
   "execution_count": null,
   "id": "c1c5d03f",
   "metadata": {},
   "outputs": [],
   "source": []
  }
 ],
 "metadata": {
  "kernelspec": {
   "display_name": "Python 3 (ipykernel)",
   "language": "python",
   "name": "python3"
  },
  "language_info": {
   "codemirror_mode": {
    "name": "ipython",
    "version": 3
   },
   "file_extension": ".py",
   "mimetype": "text/x-python",
   "name": "python",
   "nbconvert_exporter": "python",
   "pygments_lexer": "ipython3",
   "version": "3.7.3"
  }
 },
 "nbformat": 4,
 "nbformat_minor": 5
}
