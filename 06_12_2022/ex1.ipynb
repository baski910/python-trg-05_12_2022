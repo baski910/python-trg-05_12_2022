{
 "cells": [
  {
   "cell_type": "code",
   "execution_count": 2,
   "id": "a59543ed",
   "metadata": {},
   "outputs": [],
   "source": [
    "# numpy mainly used for creating n-dimensional array\n",
    "# install numpy \n",
    "# from jupyter - pip install numpy\n",
    "# from cmd - python -m pip install numpy"
   ]
  },
  {
   "cell_type": "code",
   "execution_count": 10,
   "id": "44dda0a6",
   "metadata": {},
   "outputs": [
    {
     "name": "stdout",
     "output_type": "stream",
     "text": [
      "[16 27 35 81]\n",
      "<class 'numpy.ndarray'>\n"
     ]
    }
   ],
   "source": [
    "import numpy as np\n",
    "\n",
    "a = [16,27,35,81]\n",
    "\n",
    "arr1 = np.array(a) # create a numpy array\n",
    "\n",
    "print(arr1)\n",
    "\n",
    "print(type(arr1)) # ndarray"
   ]
  },
  {
   "cell_type": "code",
   "execution_count": 11,
   "id": "d88706c8",
   "metadata": {},
   "outputs": [
    {
     "name": "stdout",
     "output_type": "stream",
     "text": [
      "[29 83 68 92]\n"
     ]
    }
   ],
   "source": [
    "b = [29,83,68,92]\n",
    "\n",
    "arr2 = np.array(b)\n",
    "\n",
    "print(arr2)"
   ]
  },
  {
   "cell_type": "code",
   "execution_count": 12,
   "id": "7f9d6374",
   "metadata": {},
   "outputs": [
    {
     "name": "stdout",
     "output_type": "stream",
     "text": [
      "[16, 27, 35, 81, 29, 83, 68, 92]\n",
      "[ 45 110 103 173]\n"
     ]
    }
   ],
   "source": [
    "# using '+' operator on an numpy array\n",
    "print(a+b) # results in concatenation\n",
    "\n",
    "print(arr1+arr2) # results in matrix addition"
   ]
  },
  {
   "cell_type": "code",
   "execution_count": 13,
   "id": "b9755b12",
   "metadata": {},
   "outputs": [
    {
     "name": "stdout",
     "output_type": "stream",
     "text": [
      "(4,)\n"
     ]
    }
   ],
   "source": [
    "# numpy array - shape attribute\n",
    "arr1 = np.array([29,83,68,92])\n",
    "\n",
    "print(arr1.shape) # number of elements in the array"
   ]
  },
  {
   "cell_type": "code",
   "execution_count": 15,
   "id": "507c00de",
   "metadata": {},
   "outputs": [
    {
     "name": "stdout",
     "output_type": "stream",
     "text": [
      "(3, 4)\n"
     ]
    }
   ],
   "source": [
    "arr1 = np.array(\n",
    "    [\n",
    "     [29,83,68,92],\n",
    "     [16,27,35,81],\n",
    "    ]\n",
    ")\n",
    "\n",
    "print(arr1.shape) # returns (2,4)"
   ]
  },
  {
   "cell_type": "code",
   "execution_count": 16,
   "id": "c0f6839f",
   "metadata": {},
   "outputs": [
    {
     "name": "stdout",
     "output_type": "stream",
     "text": [
      "(2, 2, 4)\n"
     ]
    }
   ],
   "source": [
    "arr1 = np.array(\n",
    "    [\n",
    "        [\n",
    "            [29,83,68,92],\n",
    "            [16,27,35,81],\n",
    "            \n",
    "        ],\n",
    "        [\n",
    "            [29,83,68,92],\n",
    "            [16,27,35,81],\n",
    "        ]\n",
    "    ]\n",
    "    \n",
    ")\n",
    "\n",
    "print(arr1.shape)"
   ]
  },
  {
   "cell_type": "code",
   "execution_count": 17,
   "id": "355943f1",
   "metadata": {},
   "outputs": [
    {
     "name": "stdout",
     "output_type": "stream",
     "text": [
      "[[0. 0. 0.]\n",
      " [0. 0. 0.]]\n"
     ]
    }
   ],
   "source": [
    "# initialize array using zeros or ones\n",
    "\n",
    "arr1 = np.zeros((2,3))\n",
    "\n",
    "print(arr1)"
   ]
  },
  {
   "cell_type": "code",
   "execution_count": 19,
   "id": "8accb4d8",
   "metadata": {},
   "outputs": [
    {
     "name": "stdout",
     "output_type": "stream",
     "text": [
      "[[1. 1. 1.]\n",
      " [1. 1. 1.]]\n"
     ]
    }
   ],
   "source": [
    "arr1 = np.ones((2,3))\n",
    "\n",
    "print(arr1)"
   ]
  },
  {
   "cell_type": "code",
   "execution_count": 20,
   "id": "2ef621f8",
   "metadata": {},
   "outputs": [
    {
     "name": "stdout",
     "output_type": "stream",
     "text": [
      "[0.         0.00689655 0.0137931  0.02068966 0.02758621 0.03448276\n",
      " 0.04137931 0.04827586 0.05517241 0.06206897 0.06896552 0.07586207\n",
      " 0.08275862 0.08965517 0.09655172 0.10344828 0.11034483 0.11724138\n",
      " 0.12413793 0.13103448 0.13793103 0.14482759 0.15172414 0.15862069\n",
      " 0.16551724 0.17241379 0.17931034 0.1862069  0.19310345 0.2       ]\n"
     ]
    }
   ],
   "source": [
    "# create a sequence of number between a small range\n",
    "# linspace - generates numbers between a small range\n",
    "\n",
    "arr1 = np.linspace(0,.2,30)\n",
    "\n",
    "print(arr1)"
   ]
  },
  {
   "cell_type": "code",
   "execution_count": null,
   "id": "6afb4261",
   "metadata": {},
   "outputs": [],
   "source": []
  }
 ],
 "metadata": {
  "kernelspec": {
   "display_name": "Python 3 (ipykernel)",
   "language": "python",
   "name": "python3"
  },
  "language_info": {
   "codemirror_mode": {
    "name": "ipython",
    "version": 3
   },
   "file_extension": ".py",
   "mimetype": "text/x-python",
   "name": "python",
   "nbconvert_exporter": "python",
   "pygments_lexer": "ipython3",
   "version": "3.7.3"
  }
 },
 "nbformat": 4,
 "nbformat_minor": 5
}
