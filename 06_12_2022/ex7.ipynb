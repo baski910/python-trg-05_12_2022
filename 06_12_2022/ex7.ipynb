{
 "cells": [
  {
   "cell_type": "code",
   "execution_count": null,
   "id": "43649041",
   "metadata": {},
   "outputs": [],
   "source": [
    "# django widely used web framework\n",
    "# Model View Templating architecture\n",
    "\n",
    "# to install django\n",
    "# from jupyter - pip install django\n",
    "# from cmd - python -m pip install django\n",
    "\n",
    "# create project\n",
    "# issue the following command from command line\n",
    "# django-admin startproject simpleproject\n",
    "# simpleproject\n",
    "#       simpleproject\n",
    "#       manage.py\n",
    "\n",
    "# create application\n",
    "# cd simpleproject\n",
    "# execute the following command\n",
    "# python manage.py startapp simpleapp ( this will create a directory named simpleapp )\n",
    "\n",
    "# edit simpleproject/settings.py and modify INSTALLED_APPS variable to include new created applicaion i.e., simpleapp\n",
    "INSTALLED_APPS = [\n",
    "    'django.contrib.admin',\n",
    "    'django.contrib.auth',\n",
    "    'django.contrib.contenttypes',\n",
    "    'django.contrib.sessions',\n",
    "    'django.contrib.messages',\n",
    "    'django.contrib.staticfiles',\n",
    "    'simpleapp'\n",
    "]"
   ]
  }
 ],
 "metadata": {
  "kernelspec": {
   "display_name": "Python 3 (ipykernel)",
   "language": "python",
   "name": "python3"
  },
  "language_info": {
   "codemirror_mode": {
    "name": "ipython",
    "version": 3
   },
   "file_extension": ".py",
   "mimetype": "text/x-python",
   "name": "python",
   "nbconvert_exporter": "python",
   "pygments_lexer": "ipython3",
   "version": "3.7.3"
  }
 },
 "nbformat": 4,
 "nbformat_minor": 5
}
