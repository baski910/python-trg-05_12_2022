{
 "cells": [
  {
   "cell_type": "code",
   "execution_count": 3,
   "id": "9e86cb5e",
   "metadata": {},
   "outputs": [
    {
     "name": "stdout",
     "output_type": "stream",
     "text": [
      "ID:1,Title:programming in c++\n",
      "ID:2,Title:programming in python\n"
     ]
    }
   ],
   "source": [
    "# fetching records from table\n",
    "import psycopg2\n",
    "import sys\n",
    "\n",
    "conn = psycopg2.connect(host='localhost',user='demodbuser',password='password',dbname='demodb_1')\n",
    "\n",
    "cur = conn.cursor() \n",
    "\n",
    "try:\n",
    "    cur.execute(\"select * from books\")\n",
    "except Exception as e:\n",
    "    print(\"error in executing query\")\n",
    "else:\n",
    "    # cursor object is used for fetching records\n",
    "    records = cur.fetchall() # cur.fetchone()\n",
    "    #print(records)\n",
    "    for row in records:\n",
    "        print(f\"ID:{row[0]},Title:{row[1]}\")\n",
    "        #print(row)\n",
    "finally:\n",
    "    conn.close()"
   ]
  },
  {
   "cell_type": "code",
   "execution_count": null,
   "id": "512bf5c3",
   "metadata": {},
   "outputs": [],
   "source": []
  }
 ],
 "metadata": {
  "kernelspec": {
   "display_name": "Python 3 (ipykernel)",
   "language": "python",
   "name": "python3"
  },
  "language_info": {
   "codemirror_mode": {
    "name": "ipython",
    "version": 3
   },
   "file_extension": ".py",
   "mimetype": "text/x-python",
   "name": "python",
   "nbconvert_exporter": "python",
   "pygments_lexer": "ipython3",
   "version": "3.7.3"
  }
 },
 "nbformat": 4,
 "nbformat_minor": 5
}
