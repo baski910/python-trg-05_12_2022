{
 "cells": [
  {
   "cell_type": "code",
   "execution_count": 3,
   "id": "a8717cc3",
   "metadata": {},
   "outputs": [
    {
     "name": "stdout",
     "output_type": "stream",
     "text": [
      "<book bookid=\"1\"><title>programming in python</title><author>van rossum</author></book>\n"
     ]
    }
   ],
   "source": [
    "import json\n",
    "import xml.etree.ElementTree as et\n",
    "\n",
    "class Book:\n",
    "    def __init__(self,bookid,booktitle,bookauthor):\n",
    "        self.bookid = bookid\n",
    "        self.booktitle = booktitle\n",
    "        self.bookauthor = bookauthor\n",
    "\n",
    "class BookSerializer:\n",
    "    def serialize(sefl,book,format):\n",
    "        serializer = get_serializer(format)\n",
    "        return serializer(book)\n",
    "    \n",
    "def get_serializer(format):\n",
    "    if format == 'json':\n",
    "        return _serialize_to_json\n",
    "    if format == 'xml':\n",
    "        return _serialize_to_xml\n",
    "    \n",
    "def _serialize_to_json(book):\n",
    "    payload = {\n",
    "        \"bookid\": book.bookid,\n",
    "        \"booktitle\": book.booktitle,\n",
    "        \"bookauthor\": book.bookauthor\n",
    "    }\n",
    "    return json.dumps(payload)\n",
    "\n",
    "def _serialize_to_xml(book):\n",
    "    book_element = et.Element('book',attrib={'bookid': str(book.bookid)})\n",
    "    title = et.SubElement(book_element,'title')\n",
    "    title.text = book.booktitle\n",
    "    author = et.SubElement(book_element,'author')\n",
    "    author.text = book.bookauthor\n",
    "    return et.tostring(book_element,encoding=\"unicode\")\n",
    "        \n",
    "if __name__ == '__main__':\n",
    "    book = Book(1,\"programming in python\",\"van rossum\")\n",
    "    serializer = BookSerializer()\n",
    "    result = serializer.serialize(book,\"xml\")\n",
    "    print(result)"
   ]
  },
  {
   "cell_type": "code",
   "execution_count": null,
   "id": "d2ec2824",
   "metadata": {},
   "outputs": [],
   "source": []
  }
 ],
 "metadata": {
  "kernelspec": {
   "display_name": "Python 3 (ipykernel)",
   "language": "python",
   "name": "python3"
  },
  "language_info": {
   "codemirror_mode": {
    "name": "ipython",
    "version": 3
   },
   "file_extension": ".py",
   "mimetype": "text/x-python",
   "name": "python",
   "nbconvert_exporter": "python",
   "pygments_lexer": "ipython3",
   "version": "3.7.3"
  }
 },
 "nbformat": 4,
 "nbformat_minor": 5
}
