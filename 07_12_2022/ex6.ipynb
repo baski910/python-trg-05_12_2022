{
 "cells": [
  {
   "cell_type": "code",
   "execution_count": 10,
   "id": "1faba9e2",
   "metadata": {},
   "outputs": [
    {
     "name": "stdout",
     "output_type": "stream",
     "text": [
      "<__main__.Singleton object at 0x7f84e0630a90>\n",
      "<__main__.Singleton object at 0x7f84e0630a90>\n"
     ]
    }
   ],
   "source": [
    "# singleton design pattern allows us to return the same instance\n",
    "\n",
    "class Singleton:\n",
    "    __shared__instance = \"some value\"\n",
    "    def __init__(self):\n",
    "        if Singleton.__shared__instance != \"some value\":\n",
    "            raise Exception(\"instance already exists\")\n",
    "        else:\n",
    "            Singleton.__shared__instance = self\n",
    "    \n",
    "    @staticmethod\n",
    "    def getInstance():\n",
    "        if Singleton.__shared__instance == \"some value\":\n",
    "            Singleton()\n",
    "        return Singleton.__shared__instance\n",
    "    \n",
    "if __name__ == \"__main__\":\n",
    "    s1 = Singleton.getInstance()\n",
    "    print(s1)\n",
    "    try:\n",
    "        s2 = Singleton.getInstance()\n",
    "        print(s2)\n",
    "    except Exception as e:\n",
    "        print(e)"
   ]
  },
  {
   "cell_type": "code",
   "execution_count": null,
   "id": "055e06db",
   "metadata": {},
   "outputs": [],
   "source": []
  }
 ],
 "metadata": {
  "kernelspec": {
   "display_name": "Python 3 (ipykernel)",
   "language": "python",
   "name": "python3"
  },
  "language_info": {
   "codemirror_mode": {
    "name": "ipython",
    "version": 3
   },
   "file_extension": ".py",
   "mimetype": "text/x-python",
   "name": "python",
   "nbconvert_exporter": "python",
   "pygments_lexer": "ipython3",
   "version": "3.7.3"
  }
 },
 "nbformat": 4,
 "nbformat_minor": 5
}
