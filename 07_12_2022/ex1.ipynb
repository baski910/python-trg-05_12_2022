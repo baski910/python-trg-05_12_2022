{
 "cells": [
  {
   "cell_type": "code",
   "execution_count": 1,
   "id": "a2c5f4da",
   "metadata": {},
   "outputs": [
    {
     "name": "stderr",
     "output_type": "stream",
     "text": [
      "Setting default log level to \"WARN\".\n",
      "To adjust logging level use sc.setLogLevel(newLevel). For SparkR, use setLogLevel(newLevel).\n"
     ]
    },
    {
     "name": "stdout",
     "output_type": "stream",
     "text": [
      "22/12/07 09:49:42 WARN NativeCodeLoader: Unable to load native-hadoop library for your platform... using builtin-java classes where applicable\n"
     ]
    },
    {
     "name": "stderr",
     "output_type": "stream",
     "text": [
      "\r",
      "[Stage 0:>                                                          (0 + 0) / 1]\r",
      "\r",
      "[Stage 0:>                                                          (0 + 1) / 1]\r"
     ]
    },
    {
     "name": "stdout",
     "output_type": "stream",
     "text": [
      "1\n"
     ]
    },
    {
     "name": "stderr",
     "output_type": "stream",
     "text": [
      "\r",
      "                                                                                \r"
     ]
    }
   ],
   "source": [
    "# installing pyspark\n",
    "# requires jvm and jdk\n",
    "# pip install pyspark\n",
    "\n",
    "from pyspark.sql import SparkSession\n",
    "\n",
    "spark = SparkSession.builder.appName(\"sample\").getOrCreate()\n",
    "\n",
    "data = [1,2,3,4,5,6,7,9,10]\n",
    "\n",
    "rdd = spark.sparkContext.parallelize(data)\n",
    "\n",
    "print(rdd.first()) # get the first element from rdd"
   ]
  },
  {
   "cell_type": "code",
   "execution_count": 2,
   "id": "24a2f4f6",
   "metadata": {},
   "outputs": [
    {
     "name": "stdout",
     "output_type": "stream",
     "text": [
      "[1, 2]\n"
     ]
    }
   ],
   "source": [
    "print(rdd.take(2)) # specified number of elements from rdd"
   ]
  },
  {
   "cell_type": "code",
   "execution_count": 3,
   "id": "470eae63",
   "metadata": {},
   "outputs": [
    {
     "name": "stdout",
     "output_type": "stream",
     "text": [
      "Vim for Debian\n",
      "---------------\n",
      "\n",
      "1. The current Debian Vim scripts policy can be found in the vim-doc package\n",
      "   under /usr/share/doc/vim-common and\n",
      "   <http://pkg-vim.alioth.debian.org/vim-policy.html/>.\n",
      "\n",
      "2. Before reporting bugs, check if the bug also exists if you run vim\n",
      "   with \"vim -u NONE -U NONE\". If not, make sure that the \"bug\" is not\n",
      "   a result of a setting in your ~/.vimrc before reporting it.\n",
      "\n",
      " -- Stefano Zacchiroli <zack@debian.org>   Mon, 10 Apr 2006 09:59:41 -0400\n",
      "\n",
      "MzScheme Vim variant\n",
      "--------------------\n",
      "\n",
      "As requested by the current MzScheme maintainer (Ari Pollak <ari@debian.org>),\n",
      "a vim-mzscheme variant is not being built.  The reasons stated are as follows:\n",
      "\n",
      "  1) MzScheme does not build on many of Debian's supported architectures.\n",
      "\n",
      "  2) The MzScheme package is not versioned based on the library.\n",
      "\n",
      "  3) The MzScheme ABI changes with every upstream version.\n",
      "\n",
      " -- James Vega <jamessan@debian.org> Mon, 10  Apr  2006  09:48:25  -0400\n",
      "\n",
      "Modeline support disabled by default\n",
      "------------------------------------\n",
      "\n",
      "Modelines have historically been a source of security/resource vulnerabilities\n",
      "and are therefore disabled by default in $VIMRUNTIME/debian.vim.\n",
      "\n",
      "You can enable them in ~/.vimrc or /etc/vim/vimrc with \"set modeline\".\n",
      "\n",
      "In order to mimic Vim's default setting (modelines disabled when root, enabled\n",
      "otherwise), you may instead want to use the following snippet:\n",
      "\n",
      "  if $USER != 'root'\n",
      "    set modeline\n",
      "  else\n",
      "    set nomodeline\n",
      "  endif\n",
      "\n",
      "The securemodelines script from vim.org (and in the vim-scripts package) may\n",
      "also be of interest as it provides a way to whitelist exactly which options\n",
      "may be set from a modeline.\n",
      "\n",
      " -- James Vega <jamessan@debian.org>  Sun, 04 May 2008 03:11:51 -0400\n"
     ]
    }
   ],
   "source": [
    "rdd = spark.sparkContext.textFile(\"readme.txt\")\n",
    "\n",
    "# rdd.collect() - returns a sequence. fetch all lines from the file by iterating over the sequence\n",
    "for element in rdd.collect():\n",
    "    print(element)"
   ]
  },
  {
   "cell_type": "code",
   "execution_count": null,
   "id": "d0a7e177",
   "metadata": {},
   "outputs": [],
   "source": []
  }
 ],
 "metadata": {
  "kernelspec": {
   "display_name": "Python 3 (ipykernel)",
   "language": "python",
   "name": "python3"
  },
  "language_info": {
   "codemirror_mode": {
    "name": "ipython",
    "version": 3
   },
   "file_extension": ".py",
   "mimetype": "text/x-python",
   "name": "python",
   "nbconvert_exporter": "python",
   "pygments_lexer": "ipython3",
   "version": "3.7.3"
  }
 },
 "nbformat": 4,
 "nbformat_minor": 5
}
