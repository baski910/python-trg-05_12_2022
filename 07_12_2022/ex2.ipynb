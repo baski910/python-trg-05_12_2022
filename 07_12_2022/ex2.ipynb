{
 "cells": [
  {
   "cell_type": "code",
   "execution_count": null,
   "id": "3d9d5e20",
   "metadata": {},
   "outputs": [],
   "source": [
    "# read csv file using pyspark\n",
    "# filter rows and columns\n",
    "# select - filter based on column names\n",
    "# filter - filter based on row values\n",
    "\n",
    "from pyspark.sql import SparkSession\n",
    "\n",
    "spark = SparkSession.builder.appName(\"sample\").getOrCreate()\n",
    "\n",
    "df = spark.read.format(\"csv\").option(\"header\",\"true\").option(\"inferSchema\",\"true\").load(\"uk-500.csv\")\n",
    "\n",
    "print(df.collect()) # returns all rows of csv file"
   ]
  },
  {
   "cell_type": "code",
   "execution_count": null,
   "id": "a097f9c7",
   "metadata": {},
   "outputs": [],
   "source": [
    "print(df.select(\"id\",\"first_name\").show()) # select 2 columns from spark dataframe and returns 20 rows"
   ]
  },
  {
   "cell_type": "code",
   "execution_count": null,
   "id": "3a692d9d",
   "metadata": {},
   "outputs": [],
   "source": [
    "# df.count() - number of rows in spark data frame\n",
    "print(df.select(\"id\",\"first_name\").show(df.count()))"
   ]
  },
  {
   "cell_type": "code",
   "execution_count": 4,
   "id": "15a86eec",
   "metadata": {},
   "outputs": [
    {
     "name": "stdout",
     "output_type": "stream",
     "text": [
      "+---+----------+---------+-------------------+------------+--------------------+-----------+-------+------------+------------+--------------------+--------------------+----+----+\n",
      "| id|first_name|last_name|       company_name|     address|                city|     county| postal|      phone1|      phone2|               email|                 web|  in| out|\n",
      "+---+----------+---------+-------------------+------------+--------------------+-----------+-------+------------+------------+--------------------+--------------------+----+----+\n",
      "|  3|    France|  Andrade|Elliott, John W Esq|8 Moor Place|East Southbourne ...|Bournemouth|BH6 3BE|01347-368222|01935-821636|france.andrade@ho...|http://www.elliot...|9:46|null|\n",
      "+---+----------+---------+-------------------+------------+--------------------+-----------+-------+------------+------------+--------------------+--------------------+----+----+\n",
      "\n"
     ]
    }
   ],
   "source": [
    "# get the row where first_name is equal to France\n",
    "df.filter(df.first_name =='France').show()"
   ]
  },
  {
   "cell_type": "code",
   "execution_count": 6,
   "id": "b7c363fb",
   "metadata": {},
   "outputs": [
    {
     "name": "stdout",
     "output_type": "stream",
     "text": [
      "+----+----------+---------+--------------------+--------------------+--------------------+-----------------+--------+------------+------------+--------------------+--------------------+----+----+\n",
      "|  id|first_name|last_name|        company_name|             address|                city|           county|  postal|      phone1|      phone2|               email|                 web|  in| out|\n",
      "+----+----------+---------+--------------------+--------------------+--------------------+-----------------+--------+------------+------------+--------------------+--------------------+----+----+\n",
      "|   7|      Marg| Grasmick|Wrangle Hill Auto...|    7457 Cowl St #70|        Bargate Ward|      Southampton|SO14 3TY|01865-582516|01362-620532|    marg@hotmail.com|http://www.wrangl...|8:28|null|\n",
      "|  37| Margurite|Loperfido|Penrose Place Pha...| 218 Greenbank Drive|             Devizes|        Wiltshire|SN10 3DU|01407-866759|01640-661191|mloperfido@gmail.com|http://www.penros...|9:33|null|\n",
      "|  43|    Marget|    Gunst|    Frankel, Stephen|  2732 Bostock St #1|          St. Enoder|         Cornwall| TR9 6NJ|01693-310794|01512-975244|    mgunst@yahoo.com|http://www.franke...|8:22|null|\n",
      "|  62| Margarett|    Bairo|Reid, Carleton B Esq|         3 August Rd|Maybury and Sheer...|           Surrey|GU21 5QL|01670-813697|01903-424890| margarett@gmail.com|http://www.reidca...| 9:3|null|\n",
      "| 244|    Margot|     Peay|   Bork, Terry D Esq|9923 Dinorben St ...|    Childs Hill Ward|   Greater London|NW11 8DY|01925-895879|01913-339706|margot.peay@yahoo...|http://www.borkte...|9:29|null|\n",
      "|null|   Margret|  Alcazar|Advantage Title &...|      5466 Sedley St|Coatbridge South ...|North Lanarkshire| ML5 4LJ|01626-590776|01633-731246|margret@alcazar.c...|http://www.advant...|8:54|null|\n",
      "|null|   Margery|    Rohrs|C G Mccullough In...|      40 Peters Lane|        Long Preston|  North Yorkshire|BD23 4NF|01634-340524|01933-273913| margery@hotmail.com|http://www.cgmccu...|8:58|null|\n",
      "|null| Margarita|  Orloski|          1893 Shops|       78 Pine Grove|    Stannington Ward|  South Yorkshire|  S6 5HE|01215-422453|01958-497953|margarita_orloski...|http://www.shops....|8:45|null|\n",
      "+----+----------+---------+--------------------+--------------------+--------------------+-----------------+--------+------------+------------+--------------------+--------------------+----+----+\n",
      "\n"
     ]
    }
   ],
   "source": [
    "# get rows where first_name contains Marg\n",
    "df.filter(df.first_name.like(\"%Marg%\")).show()"
   ]
  },
  {
   "cell_type": "code",
   "execution_count": 7,
   "id": "d728f066",
   "metadata": {},
   "outputs": [
    {
     "name": "stdout",
     "output_type": "stream",
     "text": [
      "+----+----------+---------+--------------------+--------------------+--------------------+-----------------+--------+------------+------------+--------------------+--------------------+----+----+\n",
      "|  id|first_name|last_name|        company_name|             address|                city|           county|  postal|      phone1|      phone2|               email|                 web|  in| out|\n",
      "+----+----------+---------+--------------------+--------------------+--------------------+-----------------+--------+------------+------------+--------------------+--------------------+----+----+\n",
      "|   7|      Marg| Grasmick|Wrangle Hill Auto...|    7457 Cowl St #70|        Bargate Ward|      Southampton|SO14 3TY|01865-582516|01362-620532|    marg@hotmail.com|http://www.wrangl...|8:28|null|\n",
      "|  37| Margurite|Loperfido|Penrose Place Pha...| 218 Greenbank Drive|             Devizes|        Wiltshire|SN10 3DU|01407-866759|01640-661191|mloperfido@gmail.com|http://www.penros...|9:33|null|\n",
      "|  43|    Marget|    Gunst|    Frankel, Stephen|  2732 Bostock St #1|          St. Enoder|         Cornwall| TR9 6NJ|01693-310794|01512-975244|    mgunst@yahoo.com|http://www.franke...|8:22|null|\n",
      "|  62| Margarett|    Bairo|Reid, Carleton B Esq|         3 August Rd|Maybury and Sheer...|           Surrey|GU21 5QL|01670-813697|01903-424890| margarett@gmail.com|http://www.reidca...| 9:3|null|\n",
      "| 244|    Margot|     Peay|   Bork, Terry D Esq|9923 Dinorben St ...|    Childs Hill Ward|   Greater London|NW11 8DY|01925-895879|01913-339706|margot.peay@yahoo...|http://www.borkte...|9:29|null|\n",
      "|null|   Margret|  Alcazar|Advantage Title &...|      5466 Sedley St|Coatbridge South ...|North Lanarkshire| ML5 4LJ|01626-590776|01633-731246|margret@alcazar.c...|http://www.advant...|8:54|null|\n",
      "|null|   Margery|    Rohrs|C G Mccullough In...|      40 Peters Lane|        Long Preston|  North Yorkshire|BD23 4NF|01634-340524|01933-273913| margery@hotmail.com|http://www.cgmccu...|8:58|null|\n",
      "|null| Margarita|  Orloski|          1893 Shops|       78 Pine Grove|    Stannington Ward|  South Yorkshire|  S6 5HE|01215-422453|01958-497953|margarita_orloski...|http://www.shops....|8:45|null|\n",
      "+----+----------+---------+--------------------+--------------------+--------------------+-----------------+--------+------------+------------+--------------------+--------------------+----+----+\n",
      "\n"
     ]
    }
   ],
   "source": [
    "# get rows where first_name contains Marg using regular expression\n",
    "df.filter(df.first_name.rlike(\"^Marg.*\")).show()"
   ]
  },
  {
   "cell_type": "code",
   "execution_count": null,
   "id": "a7bca7ba",
   "metadata": {},
   "outputs": [],
   "source": []
  }
 ],
 "metadata": {
  "kernelspec": {
   "display_name": "Python 3 (ipykernel)",
   "language": "python",
   "name": "python3"
  },
  "language_info": {
   "codemirror_mode": {
    "name": "ipython",
    "version": 3
   },
   "file_extension": ".py",
   "mimetype": "text/x-python",
   "name": "python",
   "nbconvert_exporter": "python",
   "pygments_lexer": "ipython3",
   "version": "3.7.3"
  }
 },
 "nbformat": 4,
 "nbformat_minor": 5
}
