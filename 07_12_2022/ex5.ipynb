{
 "cells": [
  {
   "cell_type": "code",
   "execution_count": 1,
   "id": "1975b9d8",
   "metadata": {},
   "outputs": [
    {
     "name": "stderr",
     "output_type": "stream",
     "text": [
      "Setting default log level to \"WARN\".\n",
      "To adjust logging level use sc.setLogLevel(newLevel). For SparkR, use setLogLevel(newLevel).\n"
     ]
    },
    {
     "name": "stdout",
     "output_type": "stream",
     "text": [
      "22/12/07 10:49:25 WARN NativeCodeLoader: Unable to load native-hadoop library for your platform... using builtin-java classes where applicable\n",
      "22/12/07 10:49:27 WARN Utils: Service 'SparkUI' could not bind on port 4040. Attempting port 4041.\n",
      "22/12/07 10:49:27 WARN Utils: Service 'SparkUI' could not bind on port 4041. Attempting port 4042.\n",
      "22/12/07 10:49:27 WARN Utils: Service 'SparkUI' could not bind on port 4042. Attempting port 4043.\n",
      "22/12/07 10:49:27 WARN Utils: Service 'SparkUI' could not bind on port 4043. Attempting port 4044.\n"
     ]
    }
   ],
   "source": [
    "# word count example\n",
    "\n",
    "from pyspark.sql import SparkSession\n",
    "\n",
    "spark = SparkSession.builder.appName(\"sample\").getOrCreate()\n",
    "\n",
    "rdd = spark.sparkContext.textFile(\"readme.txt\")"
   ]
  },
  {
   "cell_type": "code",
   "execution_count": 2,
   "id": "2fb6dea1",
   "metadata": {},
   "outputs": [
    {
     "name": "stderr",
     "output_type": "stream",
     "text": [
      "\r",
      "[Stage 0:>                                                          (0 + 2) / 2]\r"
     ]
    },
    {
     "name": "stdout",
     "output_type": "stream",
     "text": [
      "['Vim', 'for', 'Debian', '---------------', '', '1.', 'The', 'current', 'Debian', 'Vim', 'scripts', 'policy', 'can', 'be', 'found', 'in', 'the', 'vim-doc', 'package', '', '', '', 'under', '/usr/share/doc/vim-common', 'and', '', '', '', '<http://pkg-vim.alioth.debian.org/vim-policy.html/>.', '', '2.', 'Before', 'reporting', 'bugs,', 'check', 'if', 'the', 'bug', 'also', 'exists', 'if', 'you', 'run', 'vim', '', '', '', 'with', '\"vim', '-u', 'NONE', '-U', 'NONE\".', 'If', 'not,', 'make', 'sure', 'that', 'the', '\"bug\"', 'is', 'not', '', '', '', 'a', 'result', 'of', 'a', 'setting', 'in', 'your', '~/.vimrc', 'before', 'reporting', 'it.', '', '', '--', 'Stefano', 'Zacchiroli', '<zack@debian.org>', '', '', 'Mon,', '10', 'Apr', '2006', '09:59:41', '-0400', '', 'MzScheme', 'Vim', 'variant', '--------------------', '', 'As', 'requested', 'by', 'the', 'current', 'MzScheme', 'maintainer', '(Ari', 'Pollak', '<ari@debian.org>),', 'a', 'vim-mzscheme', 'variant', 'is', 'not', 'being', 'built.', '', 'The', 'reasons', 'stated', 'are', 'as', 'follows:', '', '', '', '1)', 'MzScheme', 'does', 'not', 'build', 'on', 'many', 'of', \"Debian's\", 'supported', 'architectures.', '', '', '', '2)', 'The', 'MzScheme', 'package', 'is', 'not', 'versioned', 'based', 'on', 'the', 'library.', '', '', '', '3)', 'The', 'MzScheme', 'ABI', 'changes', 'with', 'every', 'upstream', 'version.', '', '', '--', 'James', 'Vega', '<jamessan@debian.org>', 'Mon,', '10', '', 'Apr', '', '2006', '', '09:48:25', '', '-0400', '', 'Modeline', 'support', 'disabled', 'by', 'default', '------------------------------------', '', 'Modelines', 'have', 'historically', 'been', 'a', 'source', 'of', 'security/resource', 'vulnerabilities', 'and', 'are', 'therefore', 'disabled', 'by', 'default', 'in', '$VIMRUNTIME/debian.vim.', '', 'You', 'can', 'enable', 'them', 'in', '~/.vimrc', 'or', '/etc/vim/vimrc', 'with', '\"set', 'modeline\".', '', 'In', 'order', 'to', 'mimic', \"Vim's\", 'default', 'setting', '(modelines', 'disabled', 'when', 'root,', 'enabled', 'otherwise),', 'you', 'may', 'instead', 'want', 'to', 'use', 'the', 'following', 'snippet:', '', '', '', 'if', '$USER', '!=', \"'root'\", '', '', '', '', 'set', 'modeline', '', '', 'else', '', '', '', '', 'set', 'nomodeline', '', '', 'endif', '', 'The', 'securemodelines', 'script', 'from', 'vim.org', '(and', 'in', 'the', 'vim-scripts', 'package)', 'may', 'also', 'be', 'of', 'interest', 'as', 'it', 'provides', 'a', 'way', 'to', 'whitelist', 'exactly', 'which', 'options', 'may', 'be', 'set', 'from', 'a', 'modeline.', '', '', '--', 'James', 'Vega', '<jamessan@debian.org>', '', 'Sun,', '04', 'May', '2008', '03:11:51', '-0400']\n"
     ]
    },
    {
     "name": "stderr",
     "output_type": "stream",
     "text": [
      "\r",
      "                                                                                \r"
     ]
    }
   ],
   "source": [
    "rdd1 = rdd.flatMap(lambda x: x.split(\" \"))\n",
    "print(rdd1.collect())"
   ]
  },
  {
   "cell_type": "code",
   "execution_count": 3,
   "id": "eeb146b4",
   "metadata": {},
   "outputs": [
    {
     "name": "stdout",
     "output_type": "stream",
     "text": [
      "[('Vim', 1), ('for', 1), ('Debian', 1), ('---------------', 1), ('', 1), ('1.', 1), ('The', 1), ('current', 1), ('Debian', 1), ('Vim', 1), ('scripts', 1), ('policy', 1), ('can', 1), ('be', 1), ('found', 1), ('in', 1), ('the', 1), ('vim-doc', 1), ('package', 1), ('', 1), ('', 1), ('', 1), ('under', 1), ('/usr/share/doc/vim-common', 1), ('and', 1), ('', 1), ('', 1), ('', 1), ('<http://pkg-vim.alioth.debian.org/vim-policy.html/>.', 1), ('', 1), ('2.', 1), ('Before', 1), ('reporting', 1), ('bugs,', 1), ('check', 1), ('if', 1), ('the', 1), ('bug', 1), ('also', 1), ('exists', 1), ('if', 1), ('you', 1), ('run', 1), ('vim', 1), ('', 1), ('', 1), ('', 1), ('with', 1), ('\"vim', 1), ('-u', 1), ('NONE', 1), ('-U', 1), ('NONE\".', 1), ('If', 1), ('not,', 1), ('make', 1), ('sure', 1), ('that', 1), ('the', 1), ('\"bug\"', 1), ('is', 1), ('not', 1), ('', 1), ('', 1), ('', 1), ('a', 1), ('result', 1), ('of', 1), ('a', 1), ('setting', 1), ('in', 1), ('your', 1), ('~/.vimrc', 1), ('before', 1), ('reporting', 1), ('it.', 1), ('', 1), ('', 1), ('--', 1), ('Stefano', 1), ('Zacchiroli', 1), ('<zack@debian.org>', 1), ('', 1), ('', 1), ('Mon,', 1), ('10', 1), ('Apr', 1), ('2006', 1), ('09:59:41', 1), ('-0400', 1), ('', 1), ('MzScheme', 1), ('Vim', 1), ('variant', 1), ('--------------------', 1), ('', 1), ('As', 1), ('requested', 1), ('by', 1), ('the', 1), ('current', 1), ('MzScheme', 1), ('maintainer', 1), ('(Ari', 1), ('Pollak', 1), ('<ari@debian.org>),', 1), ('a', 1), ('vim-mzscheme', 1), ('variant', 1), ('is', 1), ('not', 1), ('being', 1), ('built.', 1), ('', 1), ('The', 1), ('reasons', 1), ('stated', 1), ('are', 1), ('as', 1), ('follows:', 1), ('', 1), ('', 1), ('', 1), ('1)', 1), ('MzScheme', 1), ('does', 1), ('not', 1), ('build', 1), ('on', 1), ('many', 1), ('of', 1), (\"Debian's\", 1), ('supported', 1), ('architectures.', 1), ('', 1), ('', 1), ('', 1), ('2)', 1), ('The', 1), ('MzScheme', 1), ('package', 1), ('is', 1), ('not', 1), ('versioned', 1), ('based', 1), ('on', 1), ('the', 1), ('library.', 1), ('', 1), ('', 1), ('', 1), ('3)', 1), ('The', 1), ('MzScheme', 1), ('ABI', 1), ('changes', 1), ('with', 1), ('every', 1), ('upstream', 1), ('version.', 1), ('', 1), ('', 1), ('--', 1), ('James', 1), ('Vega', 1), ('<jamessan@debian.org>', 1), ('Mon,', 1), ('10', 1), ('', 1), ('Apr', 1), ('', 1), ('2006', 1), ('', 1), ('09:48:25', 1), ('', 1), ('-0400', 1), ('', 1), ('Modeline', 1), ('support', 1), ('disabled', 1), ('by', 1), ('default', 1), ('------------------------------------', 1), ('', 1), ('Modelines', 1), ('have', 1), ('historically', 1), ('been', 1), ('a', 1), ('source', 1), ('of', 1), ('security/resource', 1), ('vulnerabilities', 1), ('and', 1), ('are', 1), ('therefore', 1), ('disabled', 1), ('by', 1), ('default', 1), ('in', 1), ('$VIMRUNTIME/debian.vim.', 1), ('', 1), ('You', 1), ('can', 1), ('enable', 1), ('them', 1), ('in', 1), ('~/.vimrc', 1), ('or', 1), ('/etc/vim/vimrc', 1), ('with', 1), ('\"set', 1), ('modeline\".', 1), ('', 1), ('In', 1), ('order', 1), ('to', 1), ('mimic', 1), (\"Vim's\", 1), ('default', 1), ('setting', 1), ('(modelines', 1), ('disabled', 1), ('when', 1), ('root,', 1), ('enabled', 1), ('otherwise),', 1), ('you', 1), ('may', 1), ('instead', 1), ('want', 1), ('to', 1), ('use', 1), ('the', 1), ('following', 1), ('snippet:', 1), ('', 1), ('', 1), ('', 1), ('if', 1), ('$USER', 1), ('!=', 1), (\"'root'\", 1), ('', 1), ('', 1), ('', 1), ('', 1), ('set', 1), ('modeline', 1), ('', 1), ('', 1), ('else', 1), ('', 1), ('', 1), ('', 1), ('', 1), ('set', 1), ('nomodeline', 1), ('', 1), ('', 1), ('endif', 1), ('', 1), ('The', 1), ('securemodelines', 1), ('script', 1), ('from', 1), ('vim.org', 1), ('(and', 1), ('in', 1), ('the', 1), ('vim-scripts', 1), ('package)', 1), ('may', 1), ('also', 1), ('be', 1), ('of', 1), ('interest', 1), ('as', 1), ('it', 1), ('provides', 1), ('a', 1), ('way', 1), ('to', 1), ('whitelist', 1), ('exactly', 1), ('which', 1), ('options', 1), ('may', 1), ('be', 1), ('set', 1), ('from', 1), ('a', 1), ('modeline.', 1), ('', 1), ('', 1), ('--', 1), ('James', 1), ('Vega', 1), ('<jamessan@debian.org>', 1), ('', 1), ('Sun,', 1), ('04', 1), ('May', 1), ('2008', 1), ('03:11:51', 1), ('-0400', 1)]\n"
     ]
    }
   ],
   "source": [
    "rdd2 = rdd1.map(lambda x: (x,1))\n",
    "print(rdd2.collect())"
   ]
  },
  {
   "cell_type": "code",
   "execution_count": null,
   "id": "b2cccca6",
   "metadata": {},
   "outputs": [],
   "source": [
    "rdd3 = rdd2.reduceByKey(lambda a,b: a+b)\n",
    "\n",
    "prin"
   ]
  }
 ],
 "metadata": {
  "kernelspec": {
   "display_name": "Python 3 (ipykernel)",
   "language": "python",
   "name": "python3"
  },
  "language_info": {
   "codemirror_mode": {
    "name": "ipython",
    "version": 3
   },
   "file_extension": ".py",
   "mimetype": "text/x-python",
   "name": "python",
   "nbconvert_exporter": "python",
   "pygments_lexer": "ipython3",
   "version": "3.7.3"
  }
 },
 "nbformat": 4,
 "nbformat_minor": 5
}
