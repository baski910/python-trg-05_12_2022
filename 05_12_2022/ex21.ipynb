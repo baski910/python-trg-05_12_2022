{
 "cells": [
  {
   "cell_type": "code",
   "execution_count": 3,
   "id": "c9da2c8d",
   "metadata": {},
   "outputs": [
    {
     "name": "stdout",
     "output_type": "stream",
     "text": [
      "    id first_name   last_name             company_name            address  \\\n",
      "0  1.0    Aleshia  Tomkiewicz  Alan D Rosenburg Cpa Pc       14 Taylor St   \n",
      "1  2.0       Evan   Zigomalas       Cap Gemini America        5 Binney St   \n",
      "2  3.0     France     Andrade      Elliott, John W Esq       8 Moor Place   \n",
      "3  4.0    Ulysses   Mcwalters           Mcmahan, Ben L      505 Exeter Rd   \n",
      "4  5.0     Tyisha      Veness           Champagne Room  5396 Forth Street   \n",
      "\n",
      "                             city           county    postal        phone1  \\\n",
      "0               St. Stephens Ward             Kent   CT2 7PP  01835-703597   \n",
      "1                      Abbey Ward  Buckinghamshire  HP11 2AX  01937-864715   \n",
      "2  East Southbourne and Tuckton W      Bournemouth   BH6 3BE  01347-368222   \n",
      "3              Hawerby cum Beesby     Lincolnshire  DN36 5RP  01912-771311   \n",
      "4      Greets Green and Lyng Ward    West Midlands   B70 9DT  01547-429341   \n",
      "\n",
      "         phone2                       email  \\\n",
      "0  01944-369967     atomkiewicz@hotmail.com   \n",
      "1  01714-737668    evan.zigomalas@gmail.com   \n",
      "2  01935-821636  france.andrade@hotmail.com   \n",
      "3  01302-601380         ulysses@hotmail.com   \n",
      "4  01290-367248   tyisha.veness@hotmail.com   \n",
      "\n",
      "                                    web    in  out  \n",
      "0  http://www.alandrosenburgcpapc.co.uk   9:3  NaN  \n",
      "1     http://www.capgeminiamerica.co.uk  9:13  NaN  \n",
      "2      http://www.elliottjohnwesq.co.uk  9:46  NaN  \n",
      "3          http://www.mcmahanbenl.co.uk   9:4  NaN  \n",
      "4        http://www.champagneroom.co.uk   8:1  NaN  \n"
     ]
    }
   ],
   "source": [
    "# reading a csv file as dataframe and saving it as excel\n",
    "\n",
    "import pandas as pd\n",
    "\n",
    "df = pd.read_csv('uk-500.csv')\n",
    "\n",
    "print(df.head()) # display first 5 rows\n",
    "\n",
    "#print(df.columns) # returns headers of dataframe"
   ]
  },
  {
   "cell_type": "code",
   "execution_count": 4,
   "id": "c10b8f48",
   "metadata": {},
   "outputs": [],
   "source": [
    "df.to_excel('test.xlsx',index=False)"
   ]
  },
  {
   "cell_type": "code",
   "execution_count": 5,
   "id": "ae668c78",
   "metadata": {},
   "outputs": [],
   "source": [
    "# filtering dataframe using iloc/loc\n",
    "# iloc - uses row/column index\n",
    "# loc - row values"
   ]
  },
  {
   "cell_type": "code",
   "execution_count": 6,
   "id": "12c6d5d8",
   "metadata": {},
   "outputs": [
    {
     "data": {
      "text/plain": [
       "id                                               1.0\n",
       "first_name                                   Aleshia\n",
       "last_name                                 Tomkiewicz\n",
       "company_name                 Alan D Rosenburg Cpa Pc\n",
       "address                                 14 Taylor St\n",
       "city                               St. Stephens Ward\n",
       "county                                          Kent\n",
       "postal                                       CT2 7PP\n",
       "phone1                                  01835-703597\n",
       "phone2                                  01944-369967\n",
       "email                        atomkiewicz@hotmail.com\n",
       "web             http://www.alandrosenburgcpapc.co.uk\n",
       "in                                               9:3\n",
       "out                                              NaN\n",
       "Name: 0, dtype: object"
      ]
     },
     "execution_count": 6,
     "metadata": {},
     "output_type": "execute_result"
    }
   ],
   "source": [
    "# get the first row\n",
    "df.iloc[0]"
   ]
  },
  {
   "cell_type": "code",
   "execution_count": 7,
   "id": "a95d8334",
   "metadata": {},
   "outputs": [
    {
     "data": {
      "text/plain": [
       "id                                                      NaN\n",
       "first_name                                               Mi\n",
       "last_name                                            Richan\n",
       "company_name                 Nelson Wright Haworth Golf Crs\n",
       "address                                     6 Norwood Grove\n",
       "city                                      Tanworth-in-Arden\n",
       "county                                         Warwickshire\n",
       "postal                                              B94 5RZ\n",
       "phone1                                         01451-785624\n",
       "phone2                                         01202-738406\n",
       "email                                        mi@hotmail.com\n",
       "web             http://www.nelsonwrighthaworthgolfcrs.co.uk\n",
       "in                                                     9:36\n",
       "out                                                     NaN\n",
       "Name: 499, dtype: object"
      ]
     },
     "execution_count": 7,
     "metadata": {},
     "output_type": "execute_result"
    }
   ],
   "source": [
    "# get the last row\n",
    "df.iloc[-1]"
   ]
  },
  {
   "cell_type": "code",
   "execution_count": 8,
   "id": "814e78c9",
   "metadata": {},
   "outputs": [
    {
     "name": "stdout",
     "output_type": "stream",
     "text": [
      "      id   first_name  last_name                   company_name  \\\n",
      "10  11.0     Fernanda     Writer           K & R Associates Inc   \n",
      "11  12.0  Charlesetta        Erm               Cain, John M Esq   \n",
      "12  13.0     Corrinne      Jaret              Sound Vision Corp   \n",
      "13  14.0       Niesha      Bruch         Rowley/hansell Petetin   \n",
      "14  15.0       Rueben  Gastellum  Industrial Engineering Assocs   \n",
      "\n",
      "               address                            city                 county  \\\n",
      "10  620 Northampton St                      Wilmington                   Kent   \n",
      "11         5 Hygeia St            Loundsley Green Ward             Derbyshire   \n",
      "12      2150 Morley St                        Dee Ward  Dumfries and Galloway   \n",
      "13        24 Bolton St  Broxburn, Uphall and Winchburg           West Lothian   \n",
      "14        4 Forrest St               Weston-Super-Mare         North Somerset   \n",
      "\n",
      "      postal        phone1        phone2                             email  \\\n",
      "10   DA2 7PP  01630-202053  01687-879391             fernanda@writer.co.uk   \n",
      "11   S40 4LY  01276-816806  01517-624517         charlesetta_erm@gmail.com   \n",
      "12   DG8 7DE  01625-932209  01642-322954          corrinne_jaret@gmail.com   \n",
      "13  EH52 5TL  01874-856950  01342-793603            niesha.bruch@yahoo.com   \n",
      "14  BS23 3HG  01976-755279  01956-535511  rueben_gastellum@gastellum.co.uk   \n",
      "\n",
      "                                             web    in  out  \n",
      "10              http://www.krassociatesinc.co.uk  8:18  NaN  \n",
      "11                 http://www.cainjohnmesq.co.uk  8:50  NaN  \n",
      "12              http://www.soundvisioncorp.co.uk  9:55  NaN  \n",
      "13         http://www.rowleyhansellpetetin.co.uk  9:37  NaN  \n",
      "14  http://www.industrialengineeringassocs.co.uk  8:38  NaN  \n"
     ]
    }
   ],
   "source": [
    "# select range of rows\n",
    "print(df.iloc[10:15])"
   ]
  },
  {
   "cell_type": "code",
   "execution_count": 9,
   "id": "8bb31d7a",
   "metadata": {},
   "outputs": [
    {
     "name": "stdout",
     "output_type": "stream",
     "text": [
      "      id first_name last_name                   company_name  \\\n",
      "13  14.0     Niesha     Bruch         Rowley/hansell Petetin   \n",
      "25  26.0    Leonard    Kufner   Arctic Star Distributing Inc   \n",
      "31  32.0     German    Zelaya  Jackson & Heit Machine Co Inc   \n",
      "48  49.0      Pedro   Aschoff              Charlotte Chamber   \n",
      "64  65.0     Louann  Smethers               Lba Savings Bank   \n",
      "\n",
      "             address                            city  \\\n",
      "13      24 Bolton St  Broxburn, Uphall and Winchburg   \n",
      "25     41 Canning St        Steornabhagh a Deas Ward   \n",
      "31    7 Shenstone St                   Longhill Ward   \n",
      "48       135 Opie St                Howard Town Ward   \n",
      "64  3055 Creswick St     Newbold and Brownsover Ward   \n",
      "\n",
      "                            county    postal        phone1        phone2  \\\n",
      "13                    West Lothian  EH52 5TL  01874-856950  01342-793603   \n",
      "25                   Western Isles   HS1 2PZ  01230-623547  01604-718601   \n",
      "31  Yorkshire, East (North Humbers   HU8 9PZ  01400-269033  01366-210656   \n",
      "48                      Derbyshire  SK13 8BB  01386-981141  01823-517315   \n",
      "64                    Warwickshire  CV21 1LN  01670-234959  01488-872531   \n",
      "\n",
      "                     email                                         web    in  \\\n",
      "13  niesha.bruch@yahoo.com       http://www.rowleyhansellpetetin.co.uk  9:37   \n",
      "25    lkufner@kufner.co.uk  http://www.arcticstardistributinginc.co.uk   8:9   \n",
      "31      german@hotmail.com    http://www.jacksonheitmachinecoinc.co.uk  9:35   \n",
      "48      paschoff@yahoo.com           http://www.charlottechamber.co.uk  9:53   \n",
      "64        louann@gmail.com             http://www.lbasavingsbank.co.uk  8:14   \n",
      "\n",
      "    out  \n",
      "13  NaN  \n",
      "25  NaN  \n",
      "31  NaN  \n",
      "48  NaN  \n",
      "64  NaN  \n"
     ]
    }
   ],
   "source": [
    "# get selective rows - pass row numbers as list\n",
    "\n",
    "print(df.iloc[[13,25,31,48,64]])"
   ]
  },
  {
   "cell_type": "code",
   "execution_count": 10,
   "id": "c8f99580",
   "metadata": {},
   "outputs": [
    {
     "name": "stdout",
     "output_type": "stream",
     "text": [
      "0      Tomkiewicz\n",
      "1       Zigomalas\n",
      "2         Andrade\n",
      "3       Mcwalters\n",
      "4          Veness\n",
      "          ...    \n",
      "495          Veit\n",
      "496       Euresti\n",
      "497      Brenning\n",
      "498         Keeny\n",
      "499        Richan\n",
      "Name: last_name, Length: 500, dtype: object\n"
     ]
    }
   ],
   "source": [
    "# get 2 column \n",
    "print(df.iloc[:,2])"
   ]
  },
  {
   "cell_type": "code",
   "execution_count": 11,
   "id": "2d351b48",
   "metadata": {},
   "outputs": [
    {
     "name": "stdout",
     "output_type": "stream",
     "text": [
      "      last_name                    company_name             address\n",
      "0    Tomkiewicz         Alan D Rosenburg Cpa Pc        14 Taylor St\n",
      "1     Zigomalas              Cap Gemini America         5 Binney St\n",
      "2       Andrade             Elliott, John W Esq        8 Moor Place\n",
      "3     Mcwalters                  Mcmahan, Ben L       505 Exeter Rd\n",
      "4        Veness                  Champagne Room   5396 Forth Street\n",
      "..          ...                             ...                 ...\n",
      "495        Veit      Plaza Gourmet Delicatessen  9166 Devon St #905\n",
      "496     Euresti            Fitzgerald, Edward J        70 Foster St\n",
      "497    Brenning              Furey & Associates     714 Fonthill Rd\n",
      "498       Keeny        Bfg Federal Credit Union         9 Milton St\n",
      "499      Richan  Nelson Wright Haworth Golf Crs     6 Norwood Grove\n",
      "\n",
      "[500 rows x 3 columns]\n"
     ]
    }
   ],
   "source": [
    "# get range of column\n",
    "print(df.iloc[:,2:5])"
   ]
  },
  {
   "cell_type": "code",
   "execution_count": 12,
   "id": "01c7d0f0",
   "metadata": {},
   "outputs": [
    {
     "name": "stdout",
     "output_type": "stream",
     "text": [
      "      last_name                            city        phone1\n",
      "0    Tomkiewicz               St. Stephens Ward  01835-703597\n",
      "1     Zigomalas                      Abbey Ward  01937-864715\n",
      "2       Andrade  East Southbourne and Tuckton W  01347-368222\n",
      "3     Mcwalters              Hawerby cum Beesby  01912-771311\n",
      "4        Veness      Greets Green and Lyng Ward  01547-429341\n",
      "..          ...                             ...           ...\n",
      "495        Veit  Knightsbridge and Belgravia Wa  01748-625058\n",
      "496     Euresti        Inverness Ness-Side Ward  01916-963261\n",
      "497    Brenning                Darton West Ward  01888-152110\n",
      "498       Keeny                Consett North ED  01877-379681\n",
      "499      Richan               Tanworth-in-Arden  01451-785624\n",
      "\n",
      "[500 rows x 3 columns]\n"
     ]
    }
   ],
   "source": [
    "#selective columns - column numbers passed as list\n",
    "\n",
    "print(df.iloc[:,[2,5,8]])"
   ]
  },
  {
   "cell_type": "code",
   "execution_count": 13,
   "id": "e045f87e",
   "metadata": {},
   "outputs": [
    {
     "name": "stdout",
     "output_type": "stream",
     "text": [
      "       id   first_name  last_name                  company_name  \\\n",
      "1     2.0         Evan  Zigomalas            Cap Gemini America   \n",
      "11   12.0  Charlesetta        Erm              Cain, John M Esq   \n",
      "12   13.0     Corrinne      Jaret             Sound Vision Corp   \n",
      "29   30.0        Karma     Quarto               J C S Machinery   \n",
      "32   33.0        Milly    Savidge     Bridgeway Plan For Health   \n",
      "..    ...          ...        ...                           ...   \n",
      "472   NaN          Mel   Picciuto                Avante Limited   \n",
      "480   NaN      Tijuana   Machalek        Schwartz, Thomas E Esq   \n",
      "483   NaN      Derrick    Dolloff       Proto Tek Manufacturing   \n",
      "494   NaN       Alesia      Katie  Nelsons Trmt & Pest Cntrl Co   \n",
      "498   NaN    Celestina      Keeny      Bfg Federal Credit Union   \n",
      "\n",
      "                    address                  city                  county  \\\n",
      "1               5 Binney St            Abbey Ward         Buckinghamshire   \n",
      "11              5 Hygeia St  Loundsley Green Ward              Derbyshire   \n",
      "12           2150 Morley St              Dee Ward   Dumfries and Galloway   \n",
      "29             1 Birkett St        Shard End Ward           West Midlands   \n",
      "32    129 Alexander Pope St          Franche Ward  Hereford and Worcester   \n",
      "..                      ...                   ...                     ...   \n",
      "472          8598 Rumney Rd          Hylands Ward                   Essex   \n",
      "480  1149 Highfield Rd #996    Fareham South Ward               Hampshire   \n",
      "483         236 Blantyre Rd          Everton Ward              Merseyside   \n",
      "494         4 Covent Garden        Farnworth Ward      Greater Manchester   \n",
      "498             9 Milton St      Consett North ED           County Durham   \n",
      "\n",
      "       postal        phone1        phone2                       email  \\\n",
      "1    HP11 2AX  01937-864715  01714-737668    evan.zigomalas@gmail.com   \n",
      "11    S40 4LY  01276-816806  01517-624517   charlesetta_erm@gmail.com   \n",
      "12    DG8 7DE  01625-932209  01642-322954    corrinne_jaret@gmail.com   \n",
      "29    B33 0NH  01857-864722  01307-667811           kquarto@gmail.com   \n",
      "32   DY11 9BW  01702-725589  01421-132652             milly@gmail.com   \n",
      "..        ...           ...           ...                         ...   \n",
      "472  RM11 1QL  01885-270480  01268-443299      mel.picciuto@gmail.com   \n",
      "480  PO14 9JJ  01242-532395  01336-686264  tijuana.machalek@gmail.com   \n",
      "483    L6 2EN  01982-734773  01619-554437   derrick_dolloff@gmail.com   \n",
      "494   BL4 7AF  01333-436799  01240-614527      alesia_katie@gmail.com   \n",
      "498   DH8 5LP  01877-379681  01600-463475   celestina_keeny@gmail.com   \n",
      "\n",
      "                                         web    in  out  \n",
      "1          http://www.capgeminiamerica.co.uk  9:13  NaN  \n",
      "11             http://www.cainjohnmesq.co.uk  8:50  NaN  \n",
      "12          http://www.soundvisioncorp.co.uk  9:55  NaN  \n",
      "29             http://www.jcsmachinery.co.uk  8:49  NaN  \n",
      "32   http://www.bridgewayplanforhealth.co.uk  9:24  NaN  \n",
      "..                                       ...   ...  ...  \n",
      "472           http://www.avantelimited.co.uk  8:39  NaN  \n",
      "480      http://www.schwartzthomaseesq.co.uk  8:59  NaN  \n",
      "483   http://www.prototekmanufacturing.co.uk   8:9  NaN  \n",
      "494  http://www.nelsonstrmtpestcntrlco.co.uk   9:4  NaN  \n",
      "498   http://www.bfgfederalcreditunion.co.uk  9:21  NaN  \n",
      "\n",
      "[130 rows x 14 columns]\n"
     ]
    }
   ],
   "source": [
    "# select row using row values\n",
    "print(df.loc[df['email'].str.endswith('gmail.com')])"
   ]
  },
  {
   "cell_type": "code",
   "execution_count": 14,
   "id": "8ed78551",
   "metadata": {},
   "outputs": [
    {
     "name": "stdout",
     "output_type": "stream",
     "text": [
      "      first_name  last_name                       email\n",
      "1           Evan  Zigomalas    evan.zigomalas@gmail.com\n",
      "11   Charlesetta        Erm   charlesetta_erm@gmail.com\n",
      "12      Corrinne      Jaret    corrinne_jaret@gmail.com\n",
      "29         Karma     Quarto           kquarto@gmail.com\n",
      "32         Milly    Savidge             milly@gmail.com\n",
      "..           ...        ...                         ...\n",
      "472          Mel   Picciuto      mel.picciuto@gmail.com\n",
      "480      Tijuana   Machalek  tijuana.machalek@gmail.com\n",
      "483      Derrick    Dolloff   derrick_dolloff@gmail.com\n",
      "494       Alesia      Katie      alesia_katie@gmail.com\n",
      "498    Celestina      Keeny   celestina_keeny@gmail.com\n",
      "\n",
      "[130 rows x 3 columns]\n"
     ]
    }
   ],
   "source": [
    "# select row using row values and display only selected columns\n",
    "print(df.loc[df['email'].str.endswith('gmail.com'),['first_name','last_name','email']])"
   ]
  },
  {
   "cell_type": "code",
   "execution_count": 16,
   "id": "99406cbc",
   "metadata": {},
   "outputs": [
    {
     "name": "stdout",
     "output_type": "stream",
     "text": [
      "    id first_name last_name         company_name       address  \\\n",
      "2  3.0     France   Andrade  Elliott, John W Esq  8 Moor Place   \n",
      "\n",
      "                             city       county   postal        phone1  \\\n",
      "2  East Southbourne and Tuckton W  Bournemouth  BH6 3BE  01347-368222   \n",
      "\n",
      "         phone2                       email                               web  \\\n",
      "2  01935-821636  france.andrade@hotmail.com  http://www.elliottjohnwesq.co.uk   \n",
      "\n",
      "     in  out  \n",
      "2  9:46  NaN  \n",
      "    id first_name last_name         company_name       address  \\\n",
      "2  3.0     France    Andrew  Elliott, John W Esq  8 Moor Place   \n",
      "\n",
      "                             city       county   postal        phone1  \\\n",
      "2  East Southbourne and Tuckton W  Bournemouth  BH6 3BE  01347-368222   \n",
      "\n",
      "         phone2                       email                               web  \\\n",
      "2  01935-821636  france.andrade@hotmail.com  http://www.elliottjohnwesq.co.uk   \n",
      "\n",
      "     in  out  \n",
      "2  9:46  NaN  \n"
     ]
    }
   ],
   "source": [
    "# filter a column with condition and update another column\n",
    "print(df.loc[df['first_name']=='France'])\n",
    "\n",
    "df.loc[df['first_name']=='France','last_name']='Andrew'\n",
    "\n",
    "print(df.loc[df['first_name']=='France'])\n"
   ]
  },
  {
   "cell_type": "code",
   "execution_count": null,
   "id": "37648419",
   "metadata": {},
   "outputs": [],
   "source": []
  }
 ],
 "metadata": {
  "kernelspec": {
   "display_name": "Python 3 (ipykernel)",
   "language": "python",
   "name": "python3"
  },
  "language_info": {
   "codemirror_mode": {
    "name": "ipython",
    "version": 3
   },
   "file_extension": ".py",
   "mimetype": "text/x-python",
   "name": "python",
   "nbconvert_exporter": "python",
   "pygments_lexer": "ipython3",
   "version": "3.7.3"
  }
 },
 "nbformat": 4,
 "nbformat_minor": 5
}
