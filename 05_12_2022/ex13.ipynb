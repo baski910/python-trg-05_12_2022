{
 "cells": [
  {
   "cell_type": "code",
   "execution_count": 1,
   "id": "efaa340a",
   "metadata": {},
   "outputs": [],
   "source": [
    "def example(pattern):\n",
    "    print(\"coroutine example\")\n",
    "    try:\n",
    "        while True:\n",
    "            value = (yield)\n",
    "            if pattern in value:\n",
    "                print(value)\n",
    "    except GeneratorExit:\n",
    "        print(\"exiting co-routine\")"
   ]
  },
  {
   "cell_type": "code",
   "execution_count": 2,
   "id": "718389be",
   "metadata": {},
   "outputs": [
    {
     "name": "stdout",
     "output_type": "stream",
     "text": [
      "coroutine example\n",
      "MzScheme Vim variant\n",
      "\n",
      "As requested by the current MzScheme maintainer (Ari Pollak <ari@debian.org>),\n",
      "\n",
      "  1) MzScheme does not build on many of Debian's supported architectures.\n",
      "\n",
      "  2) The MzScheme package is not versioned based on the library.\n",
      "\n",
      "  3) The MzScheme ABI changes with every upstream version.\n",
      "\n",
      "exiting co-routine\n"
     ]
    }
   ],
   "source": [
    "cor = example('MzScheme')\n",
    "next(cor)\n",
    "with(open('readme.txt','r')) as fh:\n",
    "    for line in fh.readlines():\n",
    "        cor.send(line)\n",
    "cor.close()"
   ]
  },
  {
   "cell_type": "code",
   "execution_count": null,
   "id": "9db3a3d3",
   "metadata": {},
   "outputs": [],
   "source": []
  }
 ],
 "metadata": {
  "kernelspec": {
   "display_name": "Python 3 (ipykernel)",
   "language": "python",
   "name": "python3"
  },
  "language_info": {
   "codemirror_mode": {
    "name": "ipython",
    "version": 3
   },
   "file_extension": ".py",
   "mimetype": "text/x-python",
   "name": "python",
   "nbconvert_exporter": "python",
   "pygments_lexer": "ipython3",
   "version": "3.7.3"
  }
 },
 "nbformat": 4,
 "nbformat_minor": 5
}
