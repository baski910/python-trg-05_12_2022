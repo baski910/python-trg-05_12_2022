{
 "cells": [
  {
   "cell_type": "code",
   "execution_count": 4,
   "id": "78fa72ce",
   "metadata": {},
   "outputs": [
    {
     "name": "stdout",
     "output_type": "stream",
     "text": [
      "thread 1 is going to sleep for 1 seconds\n",
      "thread 2 is going to sleep for 2 seconds\n",
      "thread 3 is going to sleep for 3 seconds\n",
      "thread 4 is going to sleep for 4 seconds\n",
      "thread 5 is going to sleep for 5 seconds\n",
      "thread 6 is going to sleep for 6 seconds\n",
      "thread 7 is going to sleep for 7 seconds\n",
      "thread 8 is going to sleep for 8 seconds\n",
      "thread 9 is going to sleep for 9 seconds\n",
      "thread 10 is going to sleep for 10 seconds\n",
      "[<_MainThread(MainThread, started 140361912952640)>, <Thread(IOPub, started daemon 140361745823488)>, <Heartbeat(Heartbeat, started daemon 140361737430784)>, <Thread(Thread-3, started daemon 140361712252672)>, <Thread(Thread-4, started daemon 140361703859968)>, <ControlThread(Control, started daemon 140361695467264)>, <HistorySavingThread(IPythonHistorySavingThread, started 140361343170304)>, <ParentPollerUnix(Thread-2, started daemon 140361334777600)>, <Thread(Thread-35, started 140360705619712)>, <Thread(Thread-36, started 140360714012416)>, <Thread(Thread-37, started 140360722405120)>, <Thread(Thread-38, started 140360730797824)>, <Thread(Thread-39, started 140361326384896)>, <Thread(Thread-40, started 140361317992192)>, <Thread(Thread-41, started 140361309599488)>, <Thread(Thread-42, started 140361301206784)>, <Thread(Thread-43, started 140361292814080)>, <Thread(Thread-44, started 140360739190528)>]\n",
      "thred 1 got completed\n",
      "thred 2 got completed\n",
      "thred 3 got completed\n",
      "thred 4 got completed\n",
      "thred 5 got completed\n",
      "thred 6 got completed\n",
      "thred 7 got completed\n",
      "thred 8 got completed\n",
      "thred 9 got completed\n",
      "thred 10 got completed\n",
      "Done...!!!\n"
     ]
    }
   ],
   "source": [
    "# creating multiple threads\n",
    "# using join to make main thread block till completion of other threads\n",
    "\n",
    "import threading\n",
    "import time\n",
    "\n",
    "def sleeper(num):\n",
    "    print(\"thread {} is going to sleep for {} seconds\".format(num,num))\n",
    "    time.sleep(num)\n",
    "    print(\"thred {} got completed\".format(num))\n",
    "    \n",
    "threads = []\n",
    "\n",
    "for i in range(1,11):\n",
    "    t1 = threading.Thread(target=sleeper,args=(i,))\n",
    "    threads.append(t1)\n",
    "    \n",
    "for thr in threads:\n",
    "    thr.start()\n",
    "\n",
    "# list all active threads using enumerate\n",
    "print(threading.enumerate())\n",
    "    \n",
    "for thr in threads:\n",
    "    thr.join()       # ensure the main thread blocks till completion all threads\n",
    "\n",
    "    \n",
    "print(\"Done...!!!\")"
   ]
  },
  {
   "cell_type": "code",
   "execution_count": null,
   "id": "2657369c",
   "metadata": {},
   "outputs": [],
   "source": []
  },
  {
   "cell_type": "code",
   "execution_count": null,
   "id": "8d3e02d5",
   "metadata": {},
   "outputs": [],
   "source": []
  }
 ],
 "metadata": {
  "kernelspec": {
   "display_name": "Python 3 (ipykernel)",
   "language": "python",
   "name": "python3"
  },
  "language_info": {
   "codemirror_mode": {
    "name": "ipython",
    "version": 3
   },
   "file_extension": ".py",
   "mimetype": "text/x-python",
   "name": "python",
   "nbconvert_exporter": "python",
   "pygments_lexer": "ipython3",
   "version": "3.7.3"
  }
 },
 "nbformat": 4,
 "nbformat_minor": 5
}
