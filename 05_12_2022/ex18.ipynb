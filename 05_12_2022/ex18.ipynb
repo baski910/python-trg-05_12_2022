{
 "cells": [
  {
   "cell_type": "code",
   "execution_count": 3,
   "id": "c326f99a",
   "metadata": {},
   "outputs": [
    {
     "name": "stdout",
     "output_type": "stream",
     "text": [
      "Square: 100Cube: 1000\n",
      "\n",
      "Done...!!!\n"
     ]
    }
   ],
   "source": [
    "# multiprocessing - parallel processing. uses all available CPU in the hardware\n",
    "\n",
    "import multiprocessing\n",
    "\n",
    "def print_square(num):\n",
    "    print(\"Square: {}\".format(num*num))\n",
    "    \n",
    "def print_cube(num):\n",
    "    print(\"Cube: {}\".format(num*num*num))\n",
    "    \n",
    "    \n",
    "if __name__ == '__main__':\n",
    "    p1 = multiprocessing.Process(target=print_square,args=(10,))\n",
    "    p2 = multiprocessing.Process(target=print_cube,args=(10,))\n",
    "    \n",
    "    # p1 and p2 are two different processes\n",
    "    \n",
    "    p1.start()\n",
    "    p2.start()\n",
    "    \n",
    "    p1.join()\n",
    "    p2.join()\n",
    "    \n",
    "    print(\"Done...!!!\")"
   ]
  },
  {
   "cell_type": "code",
   "execution_count": null,
   "id": "2be81c6d",
   "metadata": {},
   "outputs": [],
   "source": []
  }
 ],
 "metadata": {
  "kernelspec": {
   "display_name": "Python 3 (ipykernel)",
   "language": "python",
   "name": "python3"
  },
  "language_info": {
   "codemirror_mode": {
    "name": "ipython",
    "version": 3
   },
   "file_extension": ".py",
   "mimetype": "text/x-python",
   "name": "python",
   "nbconvert_exporter": "python",
   "pygments_lexer": "ipython3",
   "version": "3.7.3"
  }
 },
 "nbformat": 4,
 "nbformat_minor": 5
}
