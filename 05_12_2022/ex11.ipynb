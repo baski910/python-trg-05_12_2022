{
 "cells": [
  {
   "cell_type": "code",
   "execution_count": 2,
   "id": "f136e426",
   "metadata": {},
   "outputs": [
    {
     "name": "stdout",
     "output_type": "stream",
     "text": [
      "<div><s>welcome bob to python</s></div>\n"
     ]
    }
   ],
   "source": [
    "# usage of decorator with '@' symbol\n",
    "\n",
    "\"\"\"Example for decorator\"\"\"\n",
    "\n",
    "def div_decorator(d):\n",
    "    def inner_wrapper(name):\n",
    "        return \"<div>{}</div>\".format(d(name))\n",
    "    return inner_wrapper\n",
    "\n",
    "def s_decorator(d):\n",
    "    def inner_wrapper(name):\n",
    "        return \"<s>{}</s>\".format(d(name))\n",
    "    return inner_wrapper\n",
    "\n",
    "@div_decorator\n",
    "@s_decorator\n",
    "def display(name):\n",
    "    return \"welcome {} to python\".format(name)\n",
    "\n",
    "print(display('bob'))"
   ]
  },
  {
   "cell_type": "code",
   "execution_count": null,
   "id": "e57f06e2",
   "metadata": {},
   "outputs": [],
   "source": []
  }
 ],
 "metadata": {
  "kernelspec": {
   "display_name": "Python 3 (ipykernel)",
   "language": "python",
   "name": "python3"
  },
  "language_info": {
   "codemirror_mode": {
    "name": "ipython",
    "version": 3
   },
   "file_extension": ".py",
   "mimetype": "text/x-python",
   "name": "python",
   "nbconvert_exporter": "python",
   "pygments_lexer": "ipython3",
   "version": "3.7.3"
  }
 },
 "nbformat": 4,
 "nbformat_minor": 5
}
