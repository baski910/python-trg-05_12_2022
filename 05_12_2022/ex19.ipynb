{
 "cells": [
  {
   "cell_type": "code",
   "execution_count": 2,
   "id": "7ecb376b",
   "metadata": {},
   "outputs": [
    {
     "name": "stdout",
     "output_type": "stream",
     "text": [
      "process id for 5 is 10953process id for 8 is 10956process id for 6 is 10954process id for 7 is 10955\n",
      "\n",
      "\n",
      "process id for 9 is 10955\n",
      "\n",
      "[25, 36, 49, 64, 81]\n"
     ]
    }
   ],
   "source": [
    "# create pool of processes\n",
    "import os\n",
    "import multiprocessing\n",
    "\n",
    "def square(num):\n",
    "    print(\"process id for {} is {}\".format(num,os.getpid()))\n",
    "    return (num*num)\n",
    "\n",
    "if __name__ == '__main__':\n",
    "    mylist = [5,6,7,8,9]\n",
    "    p1 = multiprocessing.Pool()\n",
    "    \n",
    "    result =  p1.map(square,mylist)\n",
    "    \n",
    "    p1.close()\n",
    "    \n",
    "    print(result)"
   ]
  },
  {
   "cell_type": "code",
   "execution_count": null,
   "id": "a8a9c66c",
   "metadata": {},
   "outputs": [],
   "source": []
  }
 ],
 "metadata": {
  "kernelspec": {
   "display_name": "Python 3 (ipykernel)",
   "language": "python",
   "name": "python3"
  },
  "language_info": {
   "codemirror_mode": {
    "name": "ipython",
    "version": 3
   },
   "file_extension": ".py",
   "mimetype": "text/x-python",
   "name": "python",
   "nbconvert_exporter": "python",
   "pygments_lexer": "ipython3",
   "version": "3.7.3"
  }
 },
 "nbformat": 4,
 "nbformat_minor": 5
}
