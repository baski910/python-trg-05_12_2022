{
 "cells": [
  {
   "cell_type": "code",
   "execution_count": 1,
   "id": "55c8b242",
   "metadata": {},
   "outputs": [
    {
     "data": {
      "text/plain": [
       "'welcome bob to python'"
      ]
     },
     "execution_count": 1,
     "metadata": {},
     "output_type": "execute_result"
    }
   ],
   "source": [
    "\"\"\"Example for decorator\"\"\"\n",
    "def display(name):\n",
    "    return \"welcome {} to python\".format(name)\n",
    "\n",
    "display('bob')"
   ]
  },
  {
   "cell_type": "code",
   "execution_count": 2,
   "id": "32a0de0b",
   "metadata": {},
   "outputs": [
    {
     "name": "stdout",
     "output_type": "stream",
     "text": [
      "<s>welcome bob to python</s>\n"
     ]
    }
   ],
   "source": [
    "# improve the output to <s>welcome bob to python</s>\n",
    "# decorator takes reference of function to be improved as argument and has inner function.\n",
    "# The argument to inner function and argument of the function to be improved will be same\n",
    "# decorator returns the reference of inner function\n",
    "\n",
    "# code for decorator\n",
    "def s_decorator(d):\n",
    "    def inner_wrapper(name):\n",
    "        return \"<s>{}</s>\".format(d(name))\n",
    "    return inner_wrapper\n",
    "\n",
    "# in the function s_decorator the argument 'd' is considered as reference of function to be improved\n",
    "# and the argument passed to inner_wrapper should be same as that of argument passed to function to be improved\n",
    "\n",
    "# call s_decorator to get improved output\n",
    "mydisplay = s_decorator(display)\n",
    "\n",
    "print(mydisplay('bob'))\n"
   ]
  },
  {
   "cell_type": "code",
   "execution_count": 3,
   "id": "02860d4d",
   "metadata": {},
   "outputs": [
    {
     "name": "stdout",
     "output_type": "stream",
     "text": [
      "welcome bob to python\n",
      "<s>welcome bob to python</s>\n"
     ]
    }
   ],
   "source": [
    "print(display('bob'))\n",
    "display = s_decorator(display)\n",
    "print(display('bob'))"
   ]
  },
  {
   "cell_type": "code",
   "execution_count": null,
   "id": "33bb5e23",
   "metadata": {},
   "outputs": [],
   "source": []
  }
 ],
 "metadata": {
  "kernelspec": {
   "display_name": "Python 3 (ipykernel)",
   "language": "python",
   "name": "python3"
  },
  "language_info": {
   "codemirror_mode": {
    "name": "ipython",
    "version": 3
   },
   "file_extension": ".py",
   "mimetype": "text/x-python",
   "name": "python",
   "nbconvert_exporter": "python",
   "pygments_lexer": "ipython3",
   "version": "3.7.3"
  }
 },
 "nbformat": 4,
 "nbformat_minor": 5
}
