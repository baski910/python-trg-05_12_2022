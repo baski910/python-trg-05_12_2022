{
 "cells": [
  {
   "cell_type": "code",
   "execution_count": 3,
   "id": "dee6fa1d",
   "metadata": {},
   "outputs": [
    {
     "name": "stdout",
     "output_type": "stream",
     "text": [
      "Entering thread Thread-1\n",
      "Thread-1:Mon Dec  5 14:54:35 2022\n",
      "Entering thread Thread-2\n",
      "Thread-1:Mon Dec  5 14:54:36 2022\n",
      "Thread-1:Mon Dec  5 14:54:37 2022\n",
      "Thread-1:Mon Dec  5 14:54:38 2022\n",
      "Thread-1:Mon Dec  5 14:54:39 2022\n",
      "Exiting thread Thread-1Thread-2:Mon Dec  5 14:54:40 2022\n",
      "\n",
      "Thread-2:Mon Dec  5 14:54:42 2022\n",
      "Thread-2:Mon Dec  5 14:54:44 2022\n",
      "Thread-2:Mon Dec  5 14:54:46 2022\n",
      "Thread-2:Mon Dec  5 14:54:48 2022\n",
      "Exiting thread Thread-2\n",
      "Done...!!!\n"
     ]
    }
   ],
   "source": [
    "# create a custom thread class\n",
    "# a custom thread class takes threading.Thread as base class\n",
    "# override 'run' method of base class\n",
    "# using lock to achieve thread synchronization\n",
    "# the lock in python is called GIL (Global Intrepretor Lock)\n",
    "\n",
    "import threading\n",
    "import time\n",
    "\n",
    "def print_time(name,delay,counter):\n",
    "    while counter:\n",
    "        print(\"{}:{}\".format(name,time.asctime(time.localtime(time.time()))))\n",
    "        time.sleep(delay)\n",
    "        counter -= 1\n",
    "\n",
    "class CustomThread(threading.Thread):\n",
    "    def __init__(self,id,name,timegap):\n",
    "        threading.Thread.__init__(self)\n",
    "        self.id = id\n",
    "        self.name = name\n",
    "        self.timegap = timegap\n",
    "    \n",
    "    def run(self):\n",
    "        print(\"Entering thread {}\".format(self.name))\n",
    "        threadLock.acquire()\n",
    "        print_time(self.name,self.timegap,5)\n",
    "        threadLock.release()\n",
    "        print(\"Exiting thread {}\".format(self.name))\n",
    "\n",
    "        \n",
    "threadLock = threading.Lock()        \n",
    "t1 = CustomThread(1,'Thread-1',1)\n",
    "t2 = CustomThread(2,'Thread-2',2)\n",
    "\n",
    "t1.start()\n",
    "t2.start()\n",
    "\n",
    "t1.join()\n",
    "t2.join()\n",
    "\n",
    "print(\"Done...!!!\")"
   ]
  },
  {
   "cell_type": "code",
   "execution_count": null,
   "id": "9f4428e7",
   "metadata": {},
   "outputs": [],
   "source": []
  }
 ],
 "metadata": {
  "kernelspec": {
   "display_name": "Python 3 (ipykernel)",
   "language": "python",
   "name": "python3"
  },
  "language_info": {
   "codemirror_mode": {
    "name": "ipython",
    "version": 3
   },
   "file_extension": ".py",
   "mimetype": "text/x-python",
   "name": "python",
   "nbconvert_exporter": "python",
   "pygments_lexer": "ipython3",
   "version": "3.7.3"
  }
 },
 "nbformat": 4,
 "nbformat_minor": 5
}
