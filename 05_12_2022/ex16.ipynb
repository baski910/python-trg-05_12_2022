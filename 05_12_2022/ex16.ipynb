{
 "cells": [
  {
   "cell_type": "code",
   "execution_count": 1,
   "id": "0b456c3b",
   "metadata": {},
   "outputs": [
    {
     "name": "stdout",
     "output_type": "stream",
     "text": [
      "Entering thread Thread-1\n",
      "Thread-1:Mon Dec  5 14:47:23 2022\n",
      "Entering thread Thread-2\n",
      "Thread-2:Mon Dec  5 14:47:23 2022\n",
      "Thread-1:Mon Dec  5 14:47:24 2022\n",
      "Thread-2:Mon Dec  5 14:47:25 2022\n",
      "Thread-1:Mon Dec  5 14:47:25 2022\n",
      "Thread-1:Mon Dec  5 14:47:26 2022\n",
      "Thread-2:Mon Dec  5 14:47:27 2022\n",
      "Thread-1:Mon Dec  5 14:47:27 2022\n",
      "Exiting thread Thread-1\n",
      "Thread-2:Mon Dec  5 14:47:29 2022\n",
      "Thread-2:Mon Dec  5 14:47:31 2022\n",
      "Exiting thread Thread-2\n",
      "Done...!!!\n"
     ]
    }
   ],
   "source": [
    "# create a custom thread class\n",
    "# a custom thread class takes threading.Thread as base class\n",
    "# override 'run' method of base class\n",
    "\n",
    "import threading\n",
    "import time\n",
    "\n",
    "def print_time(name,delay,counter):\n",
    "    while counter:\n",
    "        print(\"{}:{}\".format(name,time.asctime(time.localtime(time.time()))))\n",
    "        time.sleep(delay)\n",
    "        counter -= 1\n",
    "\n",
    "class CustomThread(threading.Thread):\n",
    "    def __init__(self,id,name,timegap):\n",
    "        threading.Thread.__init__(self)\n",
    "        self.id = id\n",
    "        self.name = name\n",
    "        self.timegap = timegap\n",
    "    \n",
    "    def run(self):\n",
    "        print(\"Entering thread {}\".format(self.name))\n",
    "        print_time(self.name,self.timegap,5)\n",
    "        print(\"Exiting thread {}\".format(self.name))\n",
    "\n",
    "t1 = CustomThread(1,'Thread-1',1)\n",
    "t2 = CustomThread(2,'Thread-2',2)\n",
    "\n",
    "t1.start()\n",
    "t2.start()\n",
    "\n",
    "t1.join()\n",
    "t2.join()\n",
    "\n",
    "print(\"Done...!!!\")"
   ]
  },
  {
   "cell_type": "code",
   "execution_count": null,
   "id": "ea9e7437",
   "metadata": {},
   "outputs": [],
   "source": []
  }
 ],
 "metadata": {
  "kernelspec": {
   "display_name": "Python 3 (ipykernel)",
   "language": "python",
   "name": "python3"
  },
  "language_info": {
   "codemirror_mode": {
    "name": "ipython",
    "version": 3
   },
   "file_extension": ".py",
   "mimetype": "text/x-python",
   "name": "python",
   "nbconvert_exporter": "python",
   "pygments_lexer": "ipython3",
   "version": "3.7.3"
  }
 },
 "nbformat": 4,
 "nbformat_minor": 5
}
