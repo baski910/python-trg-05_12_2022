{
 "cells": [
  {
   "cell_type": "code",
   "execution_count": 1,
   "id": "621c0058",
   "metadata": {},
   "outputs": [
    {
     "name": "stdout",
     "output_type": "stream",
     "text": [
      "coroutine example\n",
      "this line contains hello\n",
      "pattern hello to be matched\n",
      "exiting co-routine\n"
     ]
    }
   ],
   "source": [
    "# example for coroutine\n",
    "\n",
    "def example(pattern):\n",
    "    print(\"coroutine example\")\n",
    "    try:\n",
    "        while True:\n",
    "            value = (yield)\n",
    "            if pattern in value:\n",
    "                print(value)\n",
    "    except GeneratorExit:\n",
    "        print(\"exiting co-routine\")\n",
    "\n",
    "cor = example('hello') # registering co-routine\n",
    "next(cor) # staring the co-routine\n",
    "cor.send(\"this is my first line\")\n",
    "cor.send(\"this line contains hello\")\n",
    "cor.send(\"pattern hello to be matched\")\n",
    "cor.send(\"last line for co-routine\")\n",
    "cor.close()"
   ]
  },
  {
   "cell_type": "code",
   "execution_count": null,
   "id": "8003ec8e",
   "metadata": {},
   "outputs": [],
   "source": []
  }
 ],
 "metadata": {
  "kernelspec": {
   "display_name": "Python 3 (ipykernel)",
   "language": "python",
   "name": "python3"
  },
  "language_info": {
   "codemirror_mode": {
    "name": "ipython",
    "version": 3
   },
   "file_extension": ".py",
   "mimetype": "text/x-python",
   "name": "python",
   "nbconvert_exporter": "python",
   "pygments_lexer": "ipython3",
   "version": "3.7.3"
  }
 },
 "nbformat": 4,
 "nbformat_minor": 5
}
