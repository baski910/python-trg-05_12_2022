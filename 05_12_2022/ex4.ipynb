{
 "cells": [
  {
   "cell_type": "code",
   "execution_count": 2,
   "id": "d57c513e",
   "metadata": {},
   "outputs": [
    {
     "name": "stdout",
     "output_type": "stream",
     "text": [
      "24\n",
      "5.0\n",
      "helloworld\n"
     ]
    }
   ],
   "source": [
    "# __all__ usage \n",
    "from hellonew import * # bring all function definitions to current namespace\n",
    "\n",
    "# explicity import sayHello\n",
    "from hellonew import sayHello\n",
    "\n",
    "# the function definition are brough to the current namespace\n",
    "\n",
    "print(addnum(20,4))\n",
    "print(divnum(20,4))\n",
    "sayHello()"
   ]
  },
  {
   "cell_type": "code",
   "execution_count": null,
   "id": "707648d8",
   "metadata": {},
   "outputs": [],
   "source": [
    "# connect\n",
    "# query\n",
    "# getnumrows"
   ]
  }
 ],
 "metadata": {
  "kernelspec": {
   "display_name": "Python 3 (ipykernel)",
   "language": "python",
   "name": "python3"
  },
  "language_info": {
   "codemirror_mode": {
    "name": "ipython",
    "version": 3
   },
   "file_extension": ".py",
   "mimetype": "text/x-python",
   "name": "python",
   "nbconvert_exporter": "python",
   "pygments_lexer": "ipython3",
   "version": "3.7.3"
  }
 },
 "nbformat": 4,
 "nbformat_minor": 5
}
