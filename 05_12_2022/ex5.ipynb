{
 "cells": [
  {
   "cell_type": "code",
   "execution_count": 2,
   "id": "b2b8503b",
   "metadata": {},
   "outputs": [
    {
     "name": "stdout",
     "output_type": "stream",
     "text": [
      "from current script: __main__\n",
      "35\n",
      "6.0\n"
     ]
    }
   ],
   "source": [
    "# use of __name__\n",
    "\n",
    "import hellotest\n",
    "\n",
    "print(\"from current script:\",__name__) # returns the current namespace\n",
    "print(hellotest.addnum(30,5))\n",
    "print(hellotest.divnum(30,5))"
   ]
  },
  {
   "cell_type": "code",
   "execution_count": null,
   "id": "8af568f0",
   "metadata": {},
   "outputs": [],
   "source": []
  }
 ],
 "metadata": {
  "kernelspec": {
   "display_name": "Python 3 (ipykernel)",
   "language": "python",
   "name": "python3"
  },
  "language_info": {
   "codemirror_mode": {
    "name": "ipython",
    "version": 3
   },
   "file_extension": ".py",
   "mimetype": "text/x-python",
   "name": "python",
   "nbconvert_exporter": "python",
   "pygments_lexer": "ipython3",
   "version": "3.7.3"
  }
 },
 "nbformat": 4,
 "nbformat_minor": 5
}
