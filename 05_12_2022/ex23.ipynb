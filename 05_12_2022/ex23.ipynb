{
 "cells": [
  {
   "cell_type": "code",
   "execution_count": 1,
   "id": "de3eb010",
   "metadata": {},
   "outputs": [
    {
     "name": "stdout",
     "output_type": "stream",
     "text": [
      "   index            date  duration  item    month   network network_type\n",
      "0      0  15/10/14 06:58    34.429  data  2014-11      data         data\n",
      "1      1  15/10/14 06:58    13.000  call  2014-11  Vodafone       mobile\n",
      "2      2  15/10/14 14:46    23.000  call  2014-11    Meteor       mobile\n",
      "3      3  15/10/14 14:48     4.000  call  2014-11     Tesco       mobile\n",
      "4      4  15/10/14 17:27     4.000  call  2014-11     Tesco       mobile\n"
     ]
    }
   ],
   "source": [
    "# aggregate functions\n",
    "\n",
    "import pandas as pd\n",
    "\n",
    "df = pd.read_csv('phone_data.csv')\n",
    "\n",
    "print(df.head())"
   ]
  },
  {
   "cell_type": "code",
   "execution_count": 2,
   "id": "823f1123",
   "metadata": {},
   "outputs": [
    {
     "name": "stdout",
     "output_type": "stream",
     "text": [
      "2014-10-15 06:58:00\n"
     ]
    }
   ],
   "source": [
    "import dateutil as du\n",
    "s1 = '15/10/14 06:58'\n",
    "\n",
    "print(du.parser.parse(s1))"
   ]
  },
  {
   "cell_type": "code",
   "execution_count": 4,
   "id": "66edfa6a",
   "metadata": {},
   "outputs": [
    {
     "name": "stdout",
     "output_type": "stream",
     "text": [
      "   index                date  duration  item    month   network network_type\n",
      "0      0 2014-10-15 06:58:00    34.429  data  2014-11      data         data\n",
      "1      1 2014-10-15 06:58:00    13.000  call  2014-11  Vodafone       mobile\n",
      "2      2 2014-10-15 14:46:00    23.000  call  2014-11    Meteor       mobile\n",
      "3      3 2014-10-15 14:48:00     4.000  call  2014-11     Tesco       mobile\n",
      "4      4 2014-10-15 17:27:00     4.000  call  2014-11     Tesco       mobile\n"
     ]
    }
   ],
   "source": [
    "df['date'] = df['date'].apply(lambda x: du.parser.parse(str(x)))\n",
    "\n",
    "print(df.head())"
   ]
  },
  {
   "cell_type": "code",
   "execution_count": 5,
   "id": "e36a4984",
   "metadata": {},
   "outputs": [
    {
     "name": "stdout",
     "output_type": "stream",
     "text": [
      "92321.0\n"
     ]
    }
   ],
   "source": [
    "# find the sum of duration for all values of 'call'\n",
    "\n",
    "print(df.loc[df['item']=='call','duration'].sum())"
   ]
  },
  {
   "cell_type": "code",
   "execution_count": 6,
   "id": "313f02a5",
   "metadata": {},
   "outputs": [
    {
     "name": "stdout",
     "output_type": "stream",
     "text": [
      "item\n",
      "call    92321.00\n",
      "data     5164.35\n",
      "sms       292.00\n",
      "Name: duration, dtype: float64\n"
     ]
    }
   ],
   "source": [
    "# find the sum for each value in column named 'item'\n",
    "print(df.groupby(['item'])['duration'].aggregate(sum))"
   ]
  },
  {
   "cell_type": "code",
   "execution_count": 11,
   "id": "9e539617",
   "metadata": {},
   "outputs": [
    {
     "name": "stdout",
     "output_type": "stream",
     "text": [
      "        duration            \n",
      "             sum        mean\n",
      "month                       \n",
      "2014-11  25547.0  238.757009\n",
      "2014-12  13561.0  171.658228\n",
      "2015-01  17070.0  193.977273\n",
      "2015-02  14416.0  215.164179\n",
      "2015-03  21727.0  462.276596\n"
     ]
    }
   ],
   "source": [
    "# find the sum and average of duration group by month\n",
    "import numpy as np\n",
    "print(df.loc[df['item']=='call'].groupby(['month']).aggregate({'duration':[sum,np.mean]}))"
   ]
  },
  {
   "cell_type": "code",
   "execution_count": 12,
   "id": "61b484cc",
   "metadata": {},
   "outputs": [
    {
     "name": "stdout",
     "output_type": "stream",
     "text": [
      "count      830.000000\n",
      "mean       117.804036\n",
      "std        444.129560\n",
      "min          1.000000\n",
      "25%          1.000000\n",
      "50%         24.500000\n",
      "75%         55.000000\n",
      "max      10528.000000\n",
      "Name: duration, dtype: float64\n"
     ]
    }
   ],
   "source": [
    "# get statistical information on a specific column\n",
    "\n",
    "print(df['duration'].describe())"
   ]
  },
  {
   "cell_type": "code",
   "execution_count": null,
   "id": "0235594c",
   "metadata": {},
   "outputs": [],
   "source": []
  }
 ],
 "metadata": {
  "kernelspec": {
   "display_name": "Python 3 (ipykernel)",
   "language": "python",
   "name": "python3"
  },
  "language_info": {
   "codemirror_mode": {
    "name": "ipython",
    "version": 3
   },
   "file_extension": ".py",
   "mimetype": "text/x-python",
   "name": "python",
   "nbconvert_exporter": "python",
   "pygments_lexer": "ipython3",
   "version": "3.7.3"
  }
 },
 "nbformat": 4,
 "nbformat_minor": 5
}
