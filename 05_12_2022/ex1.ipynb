{
 "cells": [
  {
   "cell_type": "code",
   "execution_count": 1,
   "id": "a09b6ed5",
   "metadata": {},
   "outputs": [
    {
     "name": "stdout",
     "output_type": "stream",
     "text": [
      "9079136\n"
     ]
    }
   ],
   "source": [
    "# python installed\n",
    "\n",
    "\n",
    "# int float string list tuple and dictionary\n",
    "\n",
    "a = 5 # create a python object with value 5 and the type of the object is 'int'\n",
    "\n",
    "# 2 types of python objects - immutable and mutable\n",
    "# id - Built-in function to get the reference of any\n",
    "\n",
    "print(id(a)) # returns the reference of the integer object 5"
   ]
  },
  {
   "cell_type": "code",
   "execution_count": 2,
   "id": "2ffe18b3",
   "metadata": {},
   "outputs": [
    {
     "name": "stdout",
     "output_type": "stream",
     "text": [
      "5\n",
      "9079136\n",
      "7\n",
      "9079200\n"
     ]
    }
   ],
   "source": [
    "# immutable object - reference changes on modification - int, str, float\n",
    "\n",
    "a = 5\n",
    "\n",
    "print(a)\n",
    "print(id(a))\n",
    "\n",
    "a += 2\n",
    "\n",
    "print(a)\n",
    "print(id(a))"
   ]
  },
  {
   "cell_type": "code",
   "execution_count": 3,
   "id": "5c3ab457",
   "metadata": {},
   "outputs": [
    {
     "name": "stdout",
     "output_type": "stream",
     "text": [
      "[10, 20, 30, 40, 50]\n",
      "139949566043272\n",
      "[10, 100, 30, 40, 50]\n",
      "139949566043272\n"
     ]
    }
   ],
   "source": [
    "# mutable object - reference remains same on modification - list , dictionary\n",
    "\n",
    "list1 = [10,20,30,40,50]\n",
    "\n",
    "print(list1)\n",
    "print(id(list1))\n",
    "\n",
    "list1[1] = 100\n",
    "\n",
    "print(list1)\n",
    "print(id(list1))"
   ]
  },
  {
   "cell_type": "code",
   "execution_count": 4,
   "id": "7f8317bc",
   "metadata": {},
   "outputs": [
    {
     "name": "stdout",
     "output_type": "stream",
     "text": [
      "this line is not included in the function\n",
      "hello world\n",
      "this line is part of the function\n",
      "hello world\n",
      "this line is part of the function\n"
     ]
    }
   ],
   "source": [
    "# function in python\n",
    "# def is a keyword to begin function\n",
    "# format of function -  def functionname(p1,p2,p3...):\n",
    "# function can returns values using - return keyword\n",
    "\n",
    "def examplefunction():\n",
    "    \"\"\"this is an example function\"\"\"\n",
    "    print(\"hello world\")\n",
    "    print(\"this line is part of the function\")\n",
    "    \n",
    "print(\"this line is not included in the function\")\n",
    "\n",
    "examplefunction()\n",
    "examplefunction()"
   ]
  },
  {
   "cell_type": "code",
   "execution_count": null,
   "id": "649293b2",
   "metadata": {},
   "outputs": [],
   "source": []
  }
 ],
 "metadata": {
  "kernelspec": {
   "display_name": "Python 3 (ipykernel)",
   "language": "python",
   "name": "python3"
  },
  "language_info": {
   "codemirror_mode": {
    "name": "ipython",
    "version": 3
   },
   "file_extension": ".py",
   "mimetype": "text/x-python",
   "name": "python",
   "nbconvert_exporter": "python",
   "pygments_lexer": "ipython3",
   "version": "3.7.3"
  }
 },
 "nbformat": 4,
 "nbformat_minor": 5
}
