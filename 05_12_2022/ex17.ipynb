{
 "cells": [
  {
   "cell_type": "code",
   "execution_count": 8,
   "id": "28b6ad15",
   "metadata": {},
   "outputs": [
    {
     "name": "stdout",
     "output_type": "stream",
     "text": [
      "Entering thread Thread-1\n",
      "Entering thread Thread-2\n",
      "The temperature of bangalore is 27.72\n",
      "Exiting thread Thread-1\n",
      "The temperature of kolkata is 26.97\n",
      "Exiting thread Thread-2\n",
      "Temperature of all cities listed\n"
     ]
    }
   ],
   "source": [
    "# create a custom thread class\n",
    "# a custom thread class takes threading.Thread as base class\n",
    "# override 'run' method of base class\n",
    "# using lock to achieve thread synchronization\n",
    "# the lock in python is called GIL (Global Intrepretor Lock)\n",
    "\n",
    "import threading\n",
    "import time\n",
    "import requests\n",
    "import json\n",
    "\n",
    "fh = open('api_key','r')\n",
    "APIKEY = fh.readline().strip()\n",
    "fh.close()\n",
    "\n",
    "def get_temperature(name,city_name,delay):\n",
    "    r = requests.get(\"https://api.openweathermap.org/data/2.5/weather?q=\"+city_name+\"&appid=\"+APIKEY)\n",
    "    time.sleep(delay)\n",
    "    if r.status_code == 200:\n",
    "        data = json.loads(r.text)\n",
    "        city_temp  = data.get('main').get('temp') - 273.15\n",
    "        print(\"The temperature of %s is %.2f\" %(city_name,city_temp))\n",
    "    else:\n",
    "        print(\"unable to get temperature\",r.status_code)\n",
    "\n",
    "class CustomThread(threading.Thread):\n",
    "    def __init__(self,id,name,city_name,timegap):\n",
    "        threading.Thread.__init__(self)\n",
    "        self.id = id\n",
    "        self.name = name\n",
    "        self.city_name = city_name\n",
    "        self.timegap = timegap\n",
    "    \n",
    "    def run(self):\n",
    "        print(\"Entering thread {}\".format(self.name))\n",
    "        threadLock.acquire()\n",
    "        get_temperature(self.name,self.city_name,self.timegap)\n",
    "        threadLock.release()\n",
    "        print(\"Exiting thread {}\".format(self.name))\n",
    "        \n",
    "threadLock = threading.Lock()        \n",
    "t1 = CustomThread(1,'Thread-1','bangalore',1)\n",
    "t2 = CustomThread(2,'Thread-2','kolkata',2)\n",
    "\n",
    "t1.start()\n",
    "t2.start()\n",
    "\n",
    "t1.join()\n",
    "t2.join()\n",
    "\n",
    "print(\"Temperature of all cities listed\")"
   ]
  },
  {
   "cell_type": "code",
   "execution_count": 10,
   "id": "f477e07b",
   "metadata": {},
   "outputs": [
    {
     "name": "stdout",
     "output_type": "stream",
     "text": [
      "303.14\n"
     ]
    }
   ],
   "source": [
    "import requests\n",
    "import json\n",
    "\n",
    "fh = open('api_key','r')\n",
    "APIKEY = fh.readline().strip()\n",
    "fh.close()\n",
    "\n",
    "city_name='chennai'\n",
    "\n",
    "r = requests.get(\"https://api.openweathermap.org/data/2.5/weather?q=\"+city_name+\"&appid=\"+APIKEY)\n",
    "\n",
    "if r.status_code == 200:\n",
    "    data = json.loads(r.text)\n",
    "    print(data.get('main').get('temp'))"
   ]
  },
  {
   "cell_type": "code",
   "execution_count": null,
   "id": "5823dd66",
   "metadata": {},
   "outputs": [],
   "source": []
  }
 ],
 "metadata": {
  "kernelspec": {
   "display_name": "Python 3 (ipykernel)",
   "language": "python",
   "name": "python3"
  },
  "language_info": {
   "codemirror_mode": {
    "name": "ipython",
    "version": 3
   },
   "file_extension": ".py",
   "mimetype": "text/x-python",
   "name": "python",
   "nbconvert_exporter": "python",
   "pygments_lexer": "ipython3",
   "version": "3.7.3"
  }
 },
 "nbformat": 4,
 "nbformat_minor": 5
}
