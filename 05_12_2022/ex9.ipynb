{
 "cells": [
  {
   "cell_type": "code",
   "execution_count": 2,
   "id": "d6e9a7f3",
   "metadata": {},
   "outputs": [
    {
     "name": "stdout",
     "output_type": "stream",
     "text": [
      "182\n"
     ]
    }
   ],
   "source": [
    "\"\"\"Example for nested function\"\"\"\n",
    "def f(x):\n",
    "    def g(y):\n",
    "        return y*y\n",
    "    return x+g(x)\n",
    "\n",
    "result = f(13) # output 182\n",
    "\n",
    "print(result)"
   ]
  },
  {
   "cell_type": "code",
   "execution_count": 3,
   "id": "5c9d9aa5",
   "metadata": {},
   "outputs": [
    {
     "name": "stdout",
     "output_type": "stream",
     "text": [
      "<function f.<locals>.g at 0x7fc63051a488>\n"
     ]
    }
   ],
   "source": [
    "# example for closure\n",
    "\n",
    "def f(x):\n",
    "    def g(): # inner functions can access parameters passwed to outer functions\n",
    "        return x*x\n",
    "    return g # returns reference of the function 'g' (which is a inner function)\n",
    "\n",
    "ref = f(10)\n",
    "\n",
    "print(ref)"
   ]
  },
  {
   "cell_type": "code",
   "execution_count": 4,
   "id": "7dae649e",
   "metadata": {},
   "outputs": [
    {
     "name": "stdout",
     "output_type": "stream",
     "text": [
      "100\n"
     ]
    }
   ],
   "source": [
    "print(ref()) # output 100"
   ]
  },
  {
   "cell_type": "code",
   "execution_count": null,
   "id": "93245b09",
   "metadata": {},
   "outputs": [],
   "source": []
  }
 ],
 "metadata": {
  "kernelspec": {
   "display_name": "Python 3 (ipykernel)",
   "language": "python",
   "name": "python3"
  },
  "language_info": {
   "codemirror_mode": {
    "name": "ipython",
    "version": 3
   },
   "file_extension": ".py",
   "mimetype": "text/x-python",
   "name": "python",
   "nbconvert_exporter": "python",
   "pygments_lexer": "ipython3",
   "version": "3.7.3"
  }
 },
 "nbformat": 4,
 "nbformat_minor": 5
}
