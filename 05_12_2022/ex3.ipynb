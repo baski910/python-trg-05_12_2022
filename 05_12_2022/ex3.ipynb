{
 "cells": [
  {
   "cell_type": "code",
   "execution_count": 1,
   "id": "cefb5808",
   "metadata": {},
   "outputs": [
    {
     "name": "stdout",
     "output_type": "stream",
     "text": [
      "24\n",
      "5.0\n"
     ]
    }
   ],
   "source": [
    "# using 'from module import' directive\n",
    "\n",
    "#from hello import addnum,divnum\n",
    "from hello import * # bring all function definitions to current namespace\n",
    "\n",
    "# the function definition are brough to the current namespace\n",
    "\n",
    "print(addnum(20,4))\n",
    "print(divnum(20,4))"
   ]
  },
  {
   "cell_type": "code",
   "execution_count": null,
   "id": "05c37e1c",
   "metadata": {},
   "outputs": [],
   "source": []
  }
 ],
 "metadata": {
  "kernelspec": {
   "display_name": "Python 3 (ipykernel)",
   "language": "python",
   "name": "python3"
  },
  "language_info": {
   "codemirror_mode": {
    "name": "ipython",
    "version": 3
   },
   "file_extension": ".py",
   "mimetype": "text/x-python",
   "name": "python",
   "nbconvert_exporter": "python",
   "pygments_lexer": "ipython3",
   "version": "3.7.3"
  }
 },
 "nbformat": 4,
 "nbformat_minor": 5
}
