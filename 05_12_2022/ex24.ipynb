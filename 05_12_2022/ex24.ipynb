{
 "cells": [
  {
   "cell_type": "code",
   "execution_count": 2,
   "id": "22f78a91",
   "metadata": {},
   "outputs": [
    {
     "name": "stdout",
     "output_type": "stream",
     "text": [
      "  first_column second_column  third_column\n",
      "0        item1          cat1             5\n",
      "1        item2          cat1            50\n",
      "2        item3          cat1             8\n",
      "3        item4          cat2             3\n",
      "4        item5          cat2           731\n",
      "5        item6          cat2           189\n",
      "6        item7          cat2             9\n",
      "  first_column second_column  third_column ranges\n",
      "0        item1          cat1             5      A\n",
      "1        item2          cat1            50      A\n",
      "2        item3          cat1             8      A\n",
      "3        item4          cat2             3      A\n",
      "4        item5          cat2           731      D\n",
      "5        item6          cat2           189      C\n",
      "6        item7          cat2             9      A\n"
     ]
    }
   ],
   "source": [
    "# classification using 'cut'\n",
    "# cut - arguments - column to be classified, range (given as bins), labels (given as labels)\n",
    "\n",
    "import pandas as pd\n",
    "import numpy as np\n",
    "\n",
    "data = {\"first_column\": [\"item1\", \"item2\", \"item3\", \"item4\", \"item5\", \"item6\", \"item7\"],\n",
    "        \"second_column\": [\"cat1\", \"cat1\", \"cat1\", \"cat2\", \"cat2\", \"cat2\", \"cat2\"],\n",
    "        \"third_column\": [5, 50, 8, 3, 731, 189, 9]}\n",
    "\n",
    "df = pd.DataFrame(data)\n",
    "\n",
    "print(df)\n",
    "\n",
    "#df[\"less_than_ten\"]= pd.cut(df.third_column, [-np.inf, 10, np.inf], labels=(1,0))\n",
    "df[\"ranges\"]= pd.cut(df.third_column, [-np.inf, 50, 100,200,np.inf], labels=['A','B','C','D'])\n",
    "print(df)"
   ]
  },
  {
   "cell_type": "code",
   "execution_count": null,
   "id": "0f4ad1e3",
   "metadata": {},
   "outputs": [],
   "source": []
  }
 ],
 "metadata": {
  "kernelspec": {
   "display_name": "Python 3 (ipykernel)",
   "language": "python",
   "name": "python3"
  },
  "language_info": {
   "codemirror_mode": {
    "name": "ipython",
    "version": 3
   },
   "file_extension": ".py",
   "mimetype": "text/x-python",
   "name": "python",
   "nbconvert_exporter": "python",
   "pygments_lexer": "ipython3",
   "version": "3.7.3"
  }
 },
 "nbformat": 4,
 "nbformat_minor": 5
}
