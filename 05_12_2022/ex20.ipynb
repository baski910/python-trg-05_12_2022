{
 "cells": [
  {
   "cell_type": "code",
   "execution_count": 1,
   "id": "0f1af99a",
   "metadata": {},
   "outputs": [
    {
     "name": "stdout",
     "output_type": "stream",
     "text": [
      "0        81\n",
      "1        46\n",
      "2        73\n",
      "3    python\n",
      "4        38\n",
      "5        91\n",
      "6       c++\n",
      "dtype: object\n"
     ]
    }
   ],
   "source": [
    "# pandas is used for cleaning, preparing and analysing data\n",
    "\n",
    "\"\"\" Creating a series with auto generated index\"\"\"\n",
    "\"\"\"Series - pandas function to create a series\"\"\"\n",
    "import pandas as pd\n",
    "\n",
    "s1 = pd.Series([81,46,73,'python',38,91,'c++'])\n",
    "\n",
    "# series can displayed using print function\n",
    "print(s1)"
   ]
  },
  {
   "cell_type": "code",
   "execution_count": 2,
   "id": "1acbc837",
   "metadata": {},
   "outputs": [
    {
     "name": "stdout",
     "output_type": "stream",
     "text": [
      "A        81\n",
      "B        46\n",
      "C        73\n",
      "D    python\n",
      "E        38\n",
      "F        91\n",
      "G       c++\n",
      "dtype: object\n"
     ]
    }
   ],
   "source": [
    "\"\"\" Creating a series with custom index\"\"\"\n",
    "import pandas as pd\n",
    "\n",
    "# custom index is passed as a list using index parameter of Series function\n",
    "# Example below\n",
    "s1 = pd.Series([81,46,73,'python',38,91,'c++'],index=['A','B','C','D','E','F','G'])\n",
    "\n",
    "# series can displayed using print function\n",
    "print(s1)"
   ]
  },
  {
   "cell_type": "code",
   "execution_count": 4,
   "id": "b124c8d9",
   "metadata": {},
   "outputs": [
    {
     "data": {
      "image/png": "[encoded data removed]",
      "text/plain": [
       "<Figure size 432x288 with 1 Axes>"
      ]
     },
     "metadata": {
      "needs_background": "light"
     },
     "output_type": "display_data"
    }
   ],
   "source": [
    "import matplotlib.pyplot as plt\n",
    "s1 = pd.Series([81,46,73,67,38,91,84],index=['A','B','C','D','E','F','G'])\n",
    "\n",
    "s1.plot(kind='bar') # default plot is line plot\n",
    "\n",
    "plt.show()"
   ]
  },
  {
   "cell_type": "code",
   "execution_count": 5,
   "id": "31486b40",
   "metadata": {},
   "outputs": [
    {
     "name": "stdout",
     "output_type": "stream",
     "text": [
      "           0    1    2   3\n",
      "0  Jones LLC  150  200  50\n",
      "1   Alpha Co  200  210  90\n",
      "2   Blue Inc  140  215  95\n"
     ]
    }
   ],
   "source": [
    "# dataframe with auto generated column and row index\n",
    "\n",
    "sales = [('Jones LLC', 150, 200, 50),\n",
    "         ('Alpha Co', 200, 210, 90),\n",
    "         ('Blue Inc', 140, 215, 95)]\n",
    "\n",
    "df = pd.DataFrame(sales)\n",
    "\n",
    "print(df)"
   ]
  },
  {
   "cell_type": "code",
   "execution_count": 6,
   "id": "e855af68",
   "metadata": {},
   "outputs": [
    {
     "name": "stdout",
     "output_type": "stream",
     "text": [
      "     account  jul  aug  sep\n",
      "0  Jones LLC  150  200   50\n",
      "1   Alpha Co  200  210   90\n",
      "2   Blue Inc  140  215   95\n"
     ]
    }
   ],
   "source": [
    "# specify the column headers at the time of creating dataframe\n",
    "sales = [('Jones LLC', 150, 200, 50),\n",
    "         ('Alpha Co', 200, 210, 90),\n",
    "         ('Blue Inc', 140, 215, 95)]\n",
    "\n",
    "df = pd.DataFrame(sales,columns=['account','jul','aug','sep'])\n",
    "\n",
    "print(df)"
   ]
  },
  {
   "cell_type": "code",
   "execution_count": 8,
   "id": "256ebbd4",
   "metadata": {},
   "outputs": [
    {
     "name": "stdout",
     "output_type": "stream",
     "text": [
      "           0    1    2   3\n",
      "0  Jones LLC  150  200  50\n",
      "1   Alpha Co  200  210  90\n",
      "2   Blue Inc  140  215  95\n"
     ]
    }
   ],
   "source": [
    "# specify the column headers after creating dataframe\n",
    "sales = [('Jones LLC', 150, 200, 50),\n",
    "         ('Alpha Co', 200, 210, 90),\n",
    "         ('Blue Inc', 140, 215, 95)]\n",
    "\n",
    "df = pd.DataFrame(sales)\n",
    "columns=['account','jul','aug','sep']\n",
    "print(df)"
   ]
  },
  {
   "cell_type": "code",
   "execution_count": 9,
   "id": "0ee431da",
   "metadata": {},
   "outputs": [
    {
     "name": "stdout",
     "output_type": "stream",
     "text": [
      "     account  jul  aug  sep\n",
      "0  Jones LLC  150  200   50\n",
      "1   Alpha Co  200  210   90\n",
      "2   Blue Inc  140  215   95\n"
     ]
    }
   ],
   "source": [
    "df.columns =  columns\n",
    "print(df)"
   ]
  },
  {
   "cell_type": "code",
   "execution_count": 10,
   "id": "aa367f6a",
   "metadata": {},
   "outputs": [
    {
     "name": "stdout",
     "output_type": "stream",
     "text": [
      "           jul  aug  sep\n",
      "account                 \n",
      "Jones LLC  150  200   50\n",
      "Alpha Co   200  210   90\n",
      "Blue Inc   140  215   95\n"
     ]
    }
   ],
   "source": [
    "# resetting the index with a specific column\n",
    "\n",
    "df = df.set_index('account') # resets the row index with values of account column\n",
    "\n",
    "print(df)"
   ]
  },
  {
   "cell_type": "code",
   "execution_count": null,
   "id": "e1443135",
   "metadata": {},
   "outputs": [],
   "source": []
  }
 ],
 "metadata": {
  "kernelspec": {
   "display_name": "Python 3 (ipykernel)",
   "language": "python",
   "name": "python3"
  },
  "language_info": {
   "codemirror_mode": {
    "name": "ipython",
    "version": 3
   },
   "file_extension": ".py",
   "mimetype": "text/x-python",
   "name": "python",
   "nbconvert_exporter": "python",
   "pygments_lexer": "ipython3",
   "version": "3.7.3"
  }
 },
 "nbformat": 4,
 "nbformat_minor": 5
}
