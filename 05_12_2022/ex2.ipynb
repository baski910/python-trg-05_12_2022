{
 "cells": [
  {
   "cell_type": "code",
   "execution_count": 2,
   "id": "5a2b3e29",
   "metadata": {},
   "outputs": [
    {
     "name": "stdout",
     "output_type": "stream",
     "text": [
      "['/home/baskar/pythonexamples/chapter_wise_notes/05_12_2022', '/home/baskar/venv-python37/lib/python37.zip', '/home/baskar/venv-python37/lib/python3.7', '/home/baskar/venv-python37/lib/python3.7/lib-dynload', '/usr/lib/python3.7', '', '/home/baskar/venv-python37/lib/python3.7/site-packages', '/home/baskar/venv-python37/lib/python3.7/site-packages/IPython/extensions', '/home/baskar/.ipython']\n",
      "35\n",
      "6.0\n"
     ]
    }
   ],
   "source": [
    "# importing a module example\n",
    "\n",
    "#import hello\n",
    "import sys\n",
    "\n",
    "print(sys.path) # returns module search path\n",
    "\n",
    "sys.path.append(\"/home/baskar/pythonexamples/chapter_wise_notes/04_12_2022\") # to add a custom location\n",
    "\n",
    "import hello\n",
    "\n",
    "print(hello.addnum(30,5))\n",
    "print(hello.divnum(30,5))"
   ]
  },
  {
   "cell_type": "code",
   "execution_count": null,
   "id": "ce7c572d",
   "metadata": {},
   "outputs": [],
   "source": []
  }
 ],
 "metadata": {
  "kernelspec": {
   "display_name": "Python 3 (ipykernel)",
   "language": "python",
   "name": "python3"
  },
  "language_info": {
   "codemirror_mode": {
    "name": "ipython",
    "version": 3
   },
   "file_extension": ".py",
   "mimetype": "text/x-python",
   "name": "python",
   "nbconvert_exporter": "python",
   "pygments_lexer": "ipython3",
   "version": "3.7.3"
  }
 },
 "nbformat": 4,
 "nbformat_minor": 5
}
