{
 "cells": [
  {
   "cell_type": "code",
   "execution_count": 1,
   "id": "d750df72",
   "metadata": {},
   "outputs": [
    {
     "name": "stdout",
     "output_type": "stream",
     "text": [
      "thread 5 is going to sleep for 5 seconds\n",
      "Done...!!!\n",
      "thred 5 got completed\n"
     ]
    }
   ],
   "source": [
    "# implementing a simple thread\n",
    "import threading\n",
    "import time\n",
    "\n",
    "def sleeper(num):\n",
    "    print(\"thread {} is going to sleep for {} seconds\".format(num,num))\n",
    "    time.sleep(num)\n",
    "    print(\"thred {} got completed\".format(num))\n",
    "    \n",
    "\n",
    "t1 = threading.Thread(target=sleeper,args=(5,)) # creates a thread and executes sleeper\n",
    "\n",
    "# to start the thread\n",
    "t1.start()\n",
    "\n",
    "print(\"Done...!!!\")"
   ]
  },
  {
   "cell_type": "code",
   "execution_count": null,
   "id": "857406ba",
   "metadata": {},
   "outputs": [],
   "source": []
  }
 ],
 "metadata": {
  "kernelspec": {
   "display_name": "Python 3 (ipykernel)",
   "language": "python",
   "name": "python3"
  },
  "language_info": {
   "codemirror_mode": {
    "name": "ipython",
    "version": 3
   },
   "file_extension": ".py",
   "mimetype": "text/x-python",
   "name": "python",
   "nbconvert_exporter": "python",
   "pygments_lexer": "ipython3",
   "version": "3.7.3"
  }
 },
 "nbformat": 4,
 "nbformat_minor": 5
}
