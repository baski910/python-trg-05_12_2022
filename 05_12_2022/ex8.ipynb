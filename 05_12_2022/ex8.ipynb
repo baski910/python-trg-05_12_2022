{
 "cells": [
  {
   "cell_type": "code",
   "execution_count": 5,
   "id": "c6441ae2",
   "metadata": {},
   "outputs": [
    {
     "name": "stdout",
     "output_type": "stream",
     "text": [
      "[1, 2, 3, 4, 5, 6, 7, 8, 9, 10, 11, 12, 13, 14, 15, 16, 17, 18, 19, 20]\n",
      "210\n"
     ]
    }
   ],
   "source": [
    "# find the sum of 'n' numbers using iterable and generator\n",
    "# sum - Built-in function takes iterable as argument and returns the sum of elements\n",
    "\n",
    "numbers = [x for x in range(1,21)]\n",
    "\n",
    "print(numbers)\n",
    "\n",
    "print(sum(numbers)) # find the sum of iterable"
   ]
  },
  {
   "cell_type": "code",
   "execution_count": 8,
   "id": "6b9fb788",
   "metadata": {},
   "outputs": [
    {
     "name": "stdout",
     "output_type": "stream",
     "text": [
      "1\t2\t3\t4\t5\t6\t7\t8\t9\t10\t11\t12\t13\t14\t15\t16\t17\t18\t19\t20\t\n",
      "\n",
      "210\n"
     ]
    }
   ],
   "source": [
    "# generator for finding sum of 'n' numbers\n",
    "\n",
    "def find_sum(n):\n",
    "    nums = 0\n",
    "    while nums < n:\n",
    "        nums += 1\n",
    "        yield nums # yield keeps track of values returned and to be returned\n",
    "        \n",
    "for num in find_sum(20):\n",
    "    print(num,end=\"\\t\")\n",
    "    \n",
    "print(\"\\n\")\n",
    "\n",
    "print(sum(find_sum(20)))"
   ]
  },
  {
   "cell_type": "code",
   "execution_count": null,
   "id": "256908cd",
   "metadata": {},
   "outputs": [],
   "source": []
  }
 ],
 "metadata": {
  "kernelspec": {
   "display_name": "Python 3 (ipykernel)",
   "language": "python",
   "name": "python3"
  },
  "language_info": {
   "codemirror_mode": {
    "name": "ipython",
    "version": 3
   },
   "file_extension": ".py",
   "mimetype": "text/x-python",
   "name": "python",
   "nbconvert_exporter": "python",
   "pygments_lexer": "ipython3",
   "version": "3.7.3"
  }
 },
 "nbformat": 4,
 "nbformat_minor": 5
}
